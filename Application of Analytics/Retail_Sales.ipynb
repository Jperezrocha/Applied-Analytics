{
 "cells": [
  {
   "cell_type": "code",
   "execution_count": 1,
   "id": "initial_id",
   "metadata": {
    "collapsed": true,
    "ExecuteTime": {
     "end_time": "2024-02-15T16:31:31.937131Z",
     "start_time": "2024-02-15T16:31:30.153749Z"
    }
   },
   "outputs": [],
   "source": [
    "import pandas as pd\n",
    "from sklearn.impute import SimpleImputer\n",
    "import matplotlib.pyplot as plt"
   ]
  },
  {
   "cell_type": "code",
   "outputs": [],
   "source": [
    "sales = pd.read_csv('/Users/jeronimoperezrocha/Library/Containers/com.microsoft.Excel/Data/Downloads/retail_sales_data.csv') #getting the data from the CSV file"
   ],
   "metadata": {
    "collapsed": false,
    "ExecuteTime": {
     "end_time": "2024-02-15T16:31:31.971836Z",
     "start_time": "2024-02-15T16:31:31.835791Z"
    }
   },
   "id": "ff0fa2c4e5540145",
   "execution_count": 2
  },
  {
   "cell_type": "code",
   "outputs": [
    {
     "data": {
      "text/plain": "      Store_ID Product_Category  Sales_Amount  Customer_Rating Date_of_Sale\n0          105         Clothing           NaN              3.0   2023-02-12\n1          100              NaN        472.69              5.0   2023-01-28\n2          103      Electronics        292.95              2.0   2023-02-08\n3          103   Home & Kitchen        128.71              NaN   2023-01-10\n4          107   Home & Kitchen        374.29              NaN   2023-02-28\n...        ...              ...           ...              ...          ...\n2695       109      Electronics        407.65              3.0   2023-02-17\n2696       105   Home & Kitchen        414.94              2.0   2023-03-03\n2697       108   Home & Kitchen        126.26              3.0   2023-01-12\n2698       107      Electronics        100.63              3.0   2023-02-02\n2699       103      Electronics        307.62              NaN   2023-03-21\n\n[2700 rows x 5 columns]",
      "text/html": "<div>\n<style scoped>\n    .dataframe tbody tr th:only-of-type {\n        vertical-align: middle;\n    }\n\n    .dataframe tbody tr th {\n        vertical-align: top;\n    }\n\n    .dataframe thead th {\n        text-align: right;\n    }\n</style>\n<table border=\"1\" class=\"dataframe\">\n  <thead>\n    <tr style=\"text-align: right;\">\n      <th></th>\n      <th>Store_ID</th>\n      <th>Product_Category</th>\n      <th>Sales_Amount</th>\n      <th>Customer_Rating</th>\n      <th>Date_of_Sale</th>\n    </tr>\n  </thead>\n  <tbody>\n    <tr>\n      <th>0</th>\n      <td>105</td>\n      <td>Clothing</td>\n      <td>NaN</td>\n      <td>3.0</td>\n      <td>2023-02-12</td>\n    </tr>\n    <tr>\n      <th>1</th>\n      <td>100</td>\n      <td>NaN</td>\n      <td>472.69</td>\n      <td>5.0</td>\n      <td>2023-01-28</td>\n    </tr>\n    <tr>\n      <th>2</th>\n      <td>103</td>\n      <td>Electronics</td>\n      <td>292.95</td>\n      <td>2.0</td>\n      <td>2023-02-08</td>\n    </tr>\n    <tr>\n      <th>3</th>\n      <td>103</td>\n      <td>Home &amp; Kitchen</td>\n      <td>128.71</td>\n      <td>NaN</td>\n      <td>2023-01-10</td>\n    </tr>\n    <tr>\n      <th>4</th>\n      <td>107</td>\n      <td>Home &amp; Kitchen</td>\n      <td>374.29</td>\n      <td>NaN</td>\n      <td>2023-02-28</td>\n    </tr>\n    <tr>\n      <th>...</th>\n      <td>...</td>\n      <td>...</td>\n      <td>...</td>\n      <td>...</td>\n      <td>...</td>\n    </tr>\n    <tr>\n      <th>2695</th>\n      <td>109</td>\n      <td>Electronics</td>\n      <td>407.65</td>\n      <td>3.0</td>\n      <td>2023-02-17</td>\n    </tr>\n    <tr>\n      <th>2696</th>\n      <td>105</td>\n      <td>Home &amp; Kitchen</td>\n      <td>414.94</td>\n      <td>2.0</td>\n      <td>2023-03-03</td>\n    </tr>\n    <tr>\n      <th>2697</th>\n      <td>108</td>\n      <td>Home &amp; Kitchen</td>\n      <td>126.26</td>\n      <td>3.0</td>\n      <td>2023-01-12</td>\n    </tr>\n    <tr>\n      <th>2698</th>\n      <td>107</td>\n      <td>Electronics</td>\n      <td>100.63</td>\n      <td>3.0</td>\n      <td>2023-02-02</td>\n    </tr>\n    <tr>\n      <th>2699</th>\n      <td>103</td>\n      <td>Electronics</td>\n      <td>307.62</td>\n      <td>NaN</td>\n      <td>2023-03-21</td>\n    </tr>\n  </tbody>\n</table>\n<p>2700 rows × 5 columns</p>\n</div>"
     },
     "execution_count": 3,
     "metadata": {},
     "output_type": "execute_result"
    }
   ],
   "source": [
    "sales #print the data"
   ],
   "metadata": {
    "collapsed": false,
    "ExecuteTime": {
     "end_time": "2024-02-15T16:31:31.973513Z",
     "start_time": "2024-02-15T16:31:31.886033Z"
    }
   },
   "id": "cc04d464ad0339a",
   "execution_count": 3
  },
  {
   "cell_type": "markdown",
   "source": [
    "## Data Cleaning"
   ],
   "metadata": {
    "collapsed": false
   },
   "id": "cf5abcef2bd15f19"
  },
  {
   "cell_type": "code",
   "outputs": [
    {
     "data": {
      "text/plain": "Store_ID              0\nProduct_Category    270\nSales_Amount        270\nCustomer_Rating     270\nDate_of_Sale          0\ndtype: int64"
     },
     "execution_count": 4,
     "metadata": {},
     "output_type": "execute_result"
    }
   ],
   "source": [
    "sales.isnull().sum() #find missing values in the data "
   ],
   "metadata": {
    "collapsed": false,
    "ExecuteTime": {
     "end_time": "2024-02-15T16:31:31.974211Z",
     "start_time": "2024-02-15T16:31:31.929494Z"
    }
   },
   "id": "8ebb157ecda3ac68",
   "execution_count": 4
  },
  {
   "cell_type": "code",
   "outputs": [],
   "source": [
    "#Handeling Missing values \n",
    "Sales_Amount = SimpleImputer(strategy='median') #For Sales Amount missing values I'm using the median to fill the missing values\n",
    "sales[['Sales_Amount']] = Sales_Amount.fit_transform(sales[['Sales_Amount']])"
   ],
   "metadata": {
    "collapsed": false,
    "ExecuteTime": {
     "end_time": "2024-02-15T16:31:31.974422Z",
     "start_time": "2024-02-15T16:31:31.955792Z"
    }
   },
   "id": "af643450e2670bbb",
   "execution_count": 5
  },
  {
   "cell_type": "code",
   "outputs": [],
   "source": [
    "#Now for Customer Rating, I will be using with the average rating\n",
    "Customer_Rating = SimpleImputer(strategy='mean') #for missing values in Customer values I'm using the mean of the customer ratings\n",
    "sales[['Customer_Rating']] = Customer_Rating.fit_transform(sales[['Customer_Rating']])"
   ],
   "metadata": {
    "collapsed": false,
    "ExecuteTime": {
     "end_time": "2024-02-15T16:31:31.992964Z",
     "start_time": "2024-02-15T16:31:31.973095Z"
    }
   },
   "id": "a01abcf0b9212e4e",
   "execution_count": 6
  },
  {
   "cell_type": "code",
   "outputs": [],
   "source": [
    "#for product category I'm going to label it as \"Unknown\"\n",
    "sales[['Product_Category']] = sales[['Product_Category']].fillna('Unknown')"
   ],
   "metadata": {
    "collapsed": false,
    "ExecuteTime": {
     "end_time": "2024-02-15T16:31:32.013044Z",
     "start_time": "2024-02-15T16:31:31.981340Z"
    }
   },
   "id": "1938a28b7256ce4a",
   "execution_count": 7
  },
  {
   "cell_type": "code",
   "outputs": [
    {
     "data": {
      "text/plain": "Store_ID            0\nProduct_Category    0\nSales_Amount        0\nCustomer_Rating     0\nDate_of_Sale        0\ndtype: int64"
     },
     "execution_count": 8,
     "metadata": {},
     "output_type": "execute_result"
    }
   ],
   "source": [
    "sales.isnull().sum()"
   ],
   "metadata": {
    "collapsed": false,
    "ExecuteTime": {
     "end_time": "2024-02-15T16:31:32.016121Z",
     "start_time": "2024-02-15T16:31:31.996219Z"
    }
   },
   "id": "934ef37d3ac59077",
   "execution_count": 8
  },
  {
   "cell_type": "markdown",
   "source": [
    "## Data Visualization"
   ],
   "metadata": {
    "collapsed": false
   },
   "id": "34c25010437418c5"
  },
  {
   "cell_type": "code",
   "outputs": [
    {
     "data": {
      "text/plain": "<Axes: >"
     },
     "execution_count": 9,
     "metadata": {},
     "output_type": "execute_result"
    },
    {
     "data": {
      "text/plain": "<Figure size 640x480 with 1 Axes>",
      "image/png": "[encoded data removed]"
     },
     "metadata": {},
     "output_type": "display_data"
    }
   ],
   "source": [
    "sales['Sales_Amount'].hist() #plotting the histogram for the sales amount"
   ],
   "metadata": {
    "collapsed": false,
    "ExecuteTime": {
     "end_time": "2024-02-15T16:31:32.194053Z",
     "start_time": "2024-02-15T16:31:32.006753Z"
    }
   },
   "id": "8e5b77aa290ac228",
   "execution_count": 9
  },
  {
   "cell_type": "code",
   "outputs": [
    {
     "data": {
      "text/plain": "<Figure size 640x480 with 1 Axes>",
      "image/png": "[encoded data removed]"
     },
     "metadata": {},
     "output_type": "display_data"
    }
   ],
   "source": [
    "# Bar chart showing the average customer rating for each product\n",
    "mean_ratings = sales.groupby('Product_Category')['Customer_Rating'].mean()\n",
    "mean_ratings.plot(kind = 'bar')\n",
    "plt.title('Average Customer Rating by Product')\n",
    "plt.show()"
   ],
   "metadata": {
    "collapsed": false,
    "ExecuteTime": {
     "end_time": "2024-02-15T16:31:32.321503Z",
     "start_time": "2024-02-15T16:31:32.194910Z"
    }
   },
   "id": "aaa69f65235533e3",
   "execution_count": 10
  },
  {
   "cell_type": "markdown",
   "source": [
    "## Data Manipulation"
   ],
   "metadata": {
    "collapsed": false
   },
   "id": "247164f646e04c7b"
  },
  {
   "cell_type": "code",
   "outputs": [
    {
     "name": "stdout",
     "output_type": "stream",
     "text": [
      "Product_Category\n",
      "Clothing          212448.275\n",
      "Electronics       227955.835\n",
      "Home & Kitchen    213044.005\n",
      "Unknown            77753.195\n",
      "Name: Sales_Amount, dtype: float64\n"
     ]
    }
   ],
   "source": [
    "#Calculate the total sales amount for each product category\n",
    "total_sales_amount = sales.groupby('Product_Category')['Sales_Amount'].sum()\n",
    "print(total_sales_amount)"
   ],
   "metadata": {
    "collapsed": false,
    "ExecuteTime": {
     "end_time": "2024-02-15T16:31:32.328310Z",
     "start_time": "2024-02-15T16:31:32.322402Z"
    }
   },
   "id": "279c0abfc9428397",
   "execution_count": 11
  },
  {
   "cell_type": "code",
   "outputs": [
    {
     "data": {
      "text/plain": "Product_Category\nElectronics       227955.835\nHome & Kitchen    213044.005\nClothing          212448.275\nUnknown            77753.195\nName: Sales_Amount, dtype: float64"
     },
     "execution_count": 12,
     "metadata": {},
     "output_type": "execute_result"
    }
   ],
   "source": [
    "#Sort the product categories based on the total sales amount in descending order\n",
    "total_sales_amount.sort_values(ascending=False)"
   ],
   "metadata": {
    "collapsed": false,
    "ExecuteTime": {
     "end_time": "2024-02-15T16:31:32.336705Z",
     "start_time": "2024-02-15T16:31:32.330884Z"
    }
   },
   "id": "4b65c897b6371b9e",
   "execution_count": 12
  },
  {
   "cell_type": "code",
   "outputs": [
    {
     "name": "stdout",
     "output_type": "stream",
     "text": [
      "Store_ID\n",
      "100    71212.460\n",
      "101    74068.865\n",
      "102    70509.665\n",
      "103    82937.875\n",
      "104    70978.905\n",
      "105    77255.785\n",
      "106    70712.305\n",
      "107    71708.745\n",
      "108    68862.085\n",
      "109    72954.620\n",
      "Name: Sales_Amount, dtype: float64\n"
     ]
    }
   ],
   "source": [
    "#Rank the stores based on the total sales amount highest to lowest and add this as a new column\n",
    "stores_by_sales = sales.groupby('Store_ID')['Sales_Amount'].sum()\n",
    "stores_by_sales.sort_values(ascending=False)\n",
    "print(stores_by_sales)"
   ],
   "metadata": {
    "collapsed": false,
    "ExecuteTime": {
     "end_time": "2024-02-15T16:31:32.635070Z",
     "start_time": "2024-02-15T16:31:32.340518Z"
    }
   },
   "id": "171918e31aa9b600",
   "execution_count": 13
  },
  {
   "cell_type": "code",
   "outputs": [
    {
     "data": {
      "text/plain": "   Store_ID  Sales_Amount\n0       100     71212.460\n1       101     74068.865\n2       102     70509.665\n3       103     82937.875\n4       104     70978.905\n5       105     77255.785\n6       106     70712.305\n7       107     71708.745\n8       108     68862.085\n9       109     72954.620",
      "text/html": "<div>\n<style scoped>\n    .dataframe tbody tr th:only-of-type {\n        vertical-align: middle;\n    }\n\n    .dataframe tbody tr th {\n        vertical-align: top;\n    }\n\n    .dataframe thead th {\n        text-align: right;\n    }\n</style>\n<table border=\"1\" class=\"dataframe\">\n  <thead>\n    <tr style=\"text-align: right;\">\n      <th></th>\n      <th>Store_ID</th>\n      <th>Sales_Amount</th>\n    </tr>\n  </thead>\n  <tbody>\n    <tr>\n      <th>0</th>\n      <td>100</td>\n      <td>71212.460</td>\n    </tr>\n    <tr>\n      <th>1</th>\n      <td>101</td>\n      <td>74068.865</td>\n    </tr>\n    <tr>\n      <th>2</th>\n      <td>102</td>\n      <td>70509.665</td>\n    </tr>\n    <tr>\n      <th>3</th>\n      <td>103</td>\n      <td>82937.875</td>\n    </tr>\n    <tr>\n      <th>4</th>\n      <td>104</td>\n      <td>70978.905</td>\n    </tr>\n    <tr>\n      <th>5</th>\n      <td>105</td>\n      <td>77255.785</td>\n    </tr>\n    <tr>\n      <th>6</th>\n      <td>106</td>\n      <td>70712.305</td>\n    </tr>\n    <tr>\n      <th>7</th>\n      <td>107</td>\n      <td>71708.745</td>\n    </tr>\n    <tr>\n      <th>8</th>\n      <td>108</td>\n      <td>68862.085</td>\n    </tr>\n    <tr>\n      <th>9</th>\n      <td>109</td>\n      <td>72954.620</td>\n    </tr>\n  </tbody>\n</table>\n</div>"
     },
     "execution_count": 14,
     "metadata": {},
     "output_type": "execute_result"
    }
   ],
   "source": [
    "#Create a new data frame that contains the total sales amount for each store\n",
    "stores_by_sales = sales.groupby('Store_ID')['Sales_Amount'].sum()\n",
    "stores_by_sales = stores_by_sales.reset_index()\n",
    "stores_by_sales"
   ],
   "metadata": {
    "collapsed": false,
    "ExecuteTime": {
     "end_time": "2024-02-15T16:31:32.637165Z",
     "start_time": "2024-02-15T16:31:32.481703Z"
    }
   },
   "id": "dfd0ffa482080447",
   "execution_count": 14
  },
  {
   "cell_type": "code",
   "outputs": [],
   "source": [],
   "metadata": {
    "collapsed": false,
    "ExecuteTime": {
     "end_time": "2024-02-15T16:31:32.637589Z",
     "start_time": "2024-02-15T16:31:32.482269Z"
    }
   },
   "id": "1feda614592fe72a",
   "execution_count": 14
  },
  {
   "cell_type": "code",
   "outputs": [],
   "source": [],
   "metadata": {
    "collapsed": false,
    "ExecuteTime": {
     "end_time": "2024-02-15T16:31:32.637823Z",
     "start_time": "2024-02-15T16:31:32.482352Z"
    }
   },
   "id": "cac88bd7956e0d20",
   "execution_count": 14
  }
 ],
 "metadata": {
  "kernelspec": {
   "display_name": "Python 3",
   "language": "python",
   "name": "python3"
  },
  "language_info": {
   "codemirror_mode": {
    "name": "ipython",
    "version": 2
   },
   "file_extension": ".py",
   "mimetype": "text/x-python",
   "name": "python",
   "nbconvert_exporter": "python",
   "pygments_lexer": "ipython2",
   "version": "2.7.6"
  }
 },
 "nbformat": 4,
 "nbformat_minor": 5
}
