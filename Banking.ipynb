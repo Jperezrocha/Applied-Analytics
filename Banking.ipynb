{
 "cells": [
  {
   "cell_type": "code",
   "execution_count": 1,
   "id": "initial_id",
   "metadata": {
    "collapsed": true,
    "ExecuteTime": {
     "end_time": "2024-02-15T17:45:57.744351Z",
     "start_time": "2024-02-15T17:45:56.563755Z"
    }
   },
   "outputs": [],
   "source": [
    "import pandas as pd\n",
    "import numpy as np\n",
    "from sklearn.model_selection import train_test_split\n",
    "from sklearn.impute import SimpleImputer\n",
    "from sklearn.linear_model import LogisticRegression\n",
    "from sklearn.metrics import accuracy_score\n",
    "#NEW\n",
    "from sklearn.preprocessing import StandardScaler, OneHotEncoder\n",
    "from sklearn.pipeline import Pipeline\n",
    "from sklearn.compose import ColumnTransformer\n",
    "from sklearn.cluster import KMeans\n"
   ]
  },
  {
   "cell_type": "code",
   "outputs": [],
   "source": [
    "bank = pd.read_csv(\"/Users/jeronimoperezrocha/Library/Containers/com.microsoft.Excel/Data/Downloads/banking_customer_data.csv\")"
   ],
   "metadata": {
    "collapsed": false,
    "ExecuteTime": {
     "end_time": "2024-02-15T17:45:57.752161Z",
     "start_time": "2024-02-15T17:45:57.744359Z"
    }
   },
   "id": "ae5ca9749db769aa",
   "execution_count": 2
  },
  {
   "cell_type": "code",
   "outputs": [
    {
     "data": {
      "text/plain": "     Customer_ID  Age  Annual_Income Employment_Type  Credit_Score  \\\n0              1   55      122742.05   Self-Employed           371   \n1              2   61      114681.86      Unemployed           815   \n2              3   30       58585.31   Self-Employed           819   \n3              4   26       35330.15      Unemployed           789   \n4              5   27       63746.03      Unemployed           608   \n..           ...  ...            ...             ...           ...   \n495          496   64       30720.90      Unemployed           485   \n496          497   25      103646.36   Self-Employed           746   \n497          498   39       33743.59      Unemployed           389   \n498          499   34       37525.22      Unemployed           803   \n499          500   57       60913.47        Salaried           767   \n\n     Loan_Amount  Default  \n0       34566.81        0  \n1       42949.54        1  \n2       13268.27        0  \n3       43527.17        0  \n4       21396.45        1  \n..           ...      ...  \n495     34914.96        0  \n496     17544.13        0  \n497     19159.14        0  \n498     23897.67        0  \n499     32125.40        0  \n\n[500 rows x 7 columns]",
      "text/html": "<div>\n<style scoped>\n    .dataframe tbody tr th:only-of-type {\n        vertical-align: middle;\n    }\n\n    .dataframe tbody tr th {\n        vertical-align: top;\n    }\n\n    .dataframe thead th {\n        text-align: right;\n    }\n</style>\n<table border=\"1\" class=\"dataframe\">\n  <thead>\n    <tr style=\"text-align: right;\">\n      <th></th>\n      <th>Customer_ID</th>\n      <th>Age</th>\n      <th>Annual_Income</th>\n      <th>Employment_Type</th>\n      <th>Credit_Score</th>\n      <th>Loan_Amount</th>\n      <th>Default</th>\n    </tr>\n  </thead>\n  <tbody>\n    <tr>\n      <th>0</th>\n      <td>1</td>\n      <td>55</td>\n      <td>122742.05</td>\n      <td>Self-Employed</td>\n      <td>371</td>\n      <td>34566.81</td>\n      <td>0</td>\n    </tr>\n    <tr>\n      <th>1</th>\n      <td>2</td>\n      <td>61</td>\n      <td>114681.86</td>\n      <td>Unemployed</td>\n      <td>815</td>\n      <td>42949.54</td>\n      <td>1</td>\n    </tr>\n    <tr>\n      <th>2</th>\n      <td>3</td>\n      <td>30</td>\n      <td>58585.31</td>\n      <td>Self-Employed</td>\n      <td>819</td>\n      <td>13268.27</td>\n      <td>0</td>\n    </tr>\n    <tr>\n      <th>3</th>\n      <td>4</td>\n      <td>26</td>\n      <td>35330.15</td>\n      <td>Unemployed</td>\n      <td>789</td>\n      <td>43527.17</td>\n      <td>0</td>\n    </tr>\n    <tr>\n      <th>4</th>\n      <td>5</td>\n      <td>27</td>\n      <td>63746.03</td>\n      <td>Unemployed</td>\n      <td>608</td>\n      <td>21396.45</td>\n      <td>1</td>\n    </tr>\n    <tr>\n      <th>...</th>\n      <td>...</td>\n      <td>...</td>\n      <td>...</td>\n      <td>...</td>\n      <td>...</td>\n      <td>...</td>\n      <td>...</td>\n    </tr>\n    <tr>\n      <th>495</th>\n      <td>496</td>\n      <td>64</td>\n      <td>30720.90</td>\n      <td>Unemployed</td>\n      <td>485</td>\n      <td>34914.96</td>\n      <td>0</td>\n    </tr>\n    <tr>\n      <th>496</th>\n      <td>497</td>\n      <td>25</td>\n      <td>103646.36</td>\n      <td>Self-Employed</td>\n      <td>746</td>\n      <td>17544.13</td>\n      <td>0</td>\n    </tr>\n    <tr>\n      <th>497</th>\n      <td>498</td>\n      <td>39</td>\n      <td>33743.59</td>\n      <td>Unemployed</td>\n      <td>389</td>\n      <td>19159.14</td>\n      <td>0</td>\n    </tr>\n    <tr>\n      <th>498</th>\n      <td>499</td>\n      <td>34</td>\n      <td>37525.22</td>\n      <td>Unemployed</td>\n      <td>803</td>\n      <td>23897.67</td>\n      <td>0</td>\n    </tr>\n    <tr>\n      <th>499</th>\n      <td>500</td>\n      <td>57</td>\n      <td>60913.47</td>\n      <td>Salaried</td>\n      <td>767</td>\n      <td>32125.40</td>\n      <td>0</td>\n    </tr>\n  </tbody>\n</table>\n<p>500 rows × 7 columns</p>\n</div>"
     },
     "execution_count": 3,
     "metadata": {},
     "output_type": "execute_result"
    }
   ],
   "source": [
    "bank"
   ],
   "metadata": {
    "collapsed": false,
    "ExecuteTime": {
     "end_time": "2024-02-15T17:45:57.767203Z",
     "start_time": "2024-02-15T17:45:57.753037Z"
    }
   },
   "id": "3206e126bc1450e",
   "execution_count": 3
  },
  {
   "cell_type": "code",
   "outputs": [
    {
     "data": {
      "text/plain": "Customer_ID        0\nAge                0\nAnnual_Income      0\nEmployment_Type    0\nCredit_Score       0\nLoan_Amount        0\nDefault            0\ndtype: int64"
     },
     "execution_count": 4,
     "metadata": {},
     "output_type": "execute_result"
    }
   ],
   "source": [
    "bank.isnull().sum()"
   ],
   "metadata": {
    "collapsed": false,
    "ExecuteTime": {
     "end_time": "2024-02-15T17:45:57.780009Z",
     "start_time": "2024-02-15T17:45:57.765589Z"
    }
   },
   "id": "6947cdd70ba8b579",
   "execution_count": 4
  },
  {
   "cell_type": "code",
   "outputs": [
    {
     "data": {
      "text/plain": "       Customer_ID        Age  Annual_Income  Credit_Score   Loan_Amount  \\\ncount   500.000000  500.00000      500.00000    500.000000    500.000000   \nmean    250.500000   43.49200    90185.04340    566.994000  28372.190720   \nstd     144.481833   14.68923    34996.64596    155.406371  12912.561969   \nmin       1.000000   18.00000    30121.59000    300.000000   5159.960000   \n25%     125.750000   31.00000    59769.31000    434.750000  16424.230000   \n50%     250.500000   43.00000    90965.23500    560.500000  28840.660000   \n75%     375.250000   56.00000   119362.08000    704.000000  39697.405000   \nmax     500.000000   69.00000   149972.29000    849.000000  49928.610000   \n\n          Default  \ncount  500.000000  \nmean     0.158000  \nstd      0.365106  \nmin      0.000000  \n25%      0.000000  \n50%      0.000000  \n75%      0.000000  \nmax      1.000000  ",
      "text/html": "<div>\n<style scoped>\n    .dataframe tbody tr th:only-of-type {\n        vertical-align: middle;\n    }\n\n    .dataframe tbody tr th {\n        vertical-align: top;\n    }\n\n    .dataframe thead th {\n        text-align: right;\n    }\n</style>\n<table border=\"1\" class=\"dataframe\">\n  <thead>\n    <tr style=\"text-align: right;\">\n      <th></th>\n      <th>Customer_ID</th>\n      <th>Age</th>\n      <th>Annual_Income</th>\n      <th>Credit_Score</th>\n      <th>Loan_Amount</th>\n      <th>Default</th>\n    </tr>\n  </thead>\n  <tbody>\n    <tr>\n      <th>count</th>\n      <td>500.000000</td>\n      <td>500.00000</td>\n      <td>500.00000</td>\n      <td>500.000000</td>\n      <td>500.000000</td>\n      <td>500.000000</td>\n    </tr>\n    <tr>\n      <th>mean</th>\n      <td>250.500000</td>\n      <td>43.49200</td>\n      <td>90185.04340</td>\n      <td>566.994000</td>\n      <td>28372.190720</td>\n      <td>0.158000</td>\n    </tr>\n    <tr>\n      <th>std</th>\n      <td>144.481833</td>\n      <td>14.68923</td>\n      <td>34996.64596</td>\n      <td>155.406371</td>\n      <td>12912.561969</td>\n      <td>0.365106</td>\n    </tr>\n    <tr>\n      <th>min</th>\n      <td>1.000000</td>\n      <td>18.00000</td>\n      <td>30121.59000</td>\n      <td>300.000000</td>\n      <td>5159.960000</td>\n      <td>0.000000</td>\n    </tr>\n    <tr>\n      <th>25%</th>\n      <td>125.750000</td>\n      <td>31.00000</td>\n      <td>59769.31000</td>\n      <td>434.750000</td>\n      <td>16424.230000</td>\n      <td>0.000000</td>\n    </tr>\n    <tr>\n      <th>50%</th>\n      <td>250.500000</td>\n      <td>43.00000</td>\n      <td>90965.23500</td>\n      <td>560.500000</td>\n      <td>28840.660000</td>\n      <td>0.000000</td>\n    </tr>\n    <tr>\n      <th>75%</th>\n      <td>375.250000</td>\n      <td>56.00000</td>\n      <td>119362.08000</td>\n      <td>704.000000</td>\n      <td>39697.405000</td>\n      <td>0.000000</td>\n    </tr>\n    <tr>\n      <th>max</th>\n      <td>500.000000</td>\n      <td>69.00000</td>\n      <td>149972.29000</td>\n      <td>849.000000</td>\n      <td>49928.610000</td>\n      <td>1.000000</td>\n    </tr>\n  </tbody>\n</table>\n</div>"
     },
     "execution_count": 5,
     "metadata": {},
     "output_type": "execute_result"
    }
   ],
   "source": [
    "bank.describe()"
   ],
   "metadata": {
    "collapsed": false,
    "ExecuteTime": {
     "end_time": "2024-02-15T17:45:57.803099Z",
     "start_time": "2024-02-15T17:45:57.772531Z"
    }
   },
   "id": "b892f06e433029b2",
   "execution_count": 5
  },
  {
   "cell_type": "code",
   "outputs": [],
   "source": [
    "categorical_features = ['Employment_Type'] #Categorical features \n",
    "\n",
    "categorical_transformer = Pipeline(steps =[\n",
    "    ('imputer', SimpleImputer(strategy= 'constant', fill_value='missing')),\n",
    "    ('onehot',OneHotEncoder(handle_unknown='ignore'))\n",
    "]) #Pipeline for categorical features \n",
    "\n",
    "numeric_features = ['Age','Annual_Income', 'Credit_Score']\n",
    "\n",
    "numeric_transformer = Pipeline(steps=[ #Pipeline for numeric features\n",
    "    ('imputer', SimpleImputer(strategy='mean')), #Impute missing values with the mean\n",
    "    ('scaler', StandardScaler()) #Standardize the data\n",
    "]) #Pipeline for numeric features"
   ],
   "metadata": {
    "collapsed": false,
    "ExecuteTime": {
     "end_time": "2024-02-15T17:45:57.845257Z",
     "start_time": "2024-02-15T17:45:57.790590Z"
    }
   },
   "id": "17ed4aadf3018ceb",
   "execution_count": 6
  },
  {
   "cell_type": "code",
   "outputs": [],
   "source": [
    "#bundle the preprocessing for the categorical and numeric features\n",
    "preprocessor = ColumnTransformer(\n",
    "    transformers=[\n",
    "        ('num', numeric_transformer, numeric_features), #Apply the numeric_transformer to the numeric_features\n",
    "        ('cat', categorical_transformer, categorical_features) #Apply the categorical_transformer to the categorical_features\n",
    "    ]\n",
    ")"
   ],
   "metadata": {
    "collapsed": false,
    "ExecuteTime": {
     "end_time": "2024-02-15T17:45:57.845820Z",
     "start_time": "2024-02-15T17:45:57.794698Z"
    }
   },
   "id": "1014e0e224549017",
   "execution_count": 7
  },
  {
   "cell_type": "code",
   "outputs": [],
   "source": [
    "#defien x and y X_train, X_test, y_train, y_test\n",
    "X = bank[['Age','Annual_Income', 'Credit_Score', 'Employment_Type']]\n",
    "y = bank.Default"
   ],
   "metadata": {
    "collapsed": false,
    "ExecuteTime": {
     "end_time": "2024-02-15T17:45:57.880617Z",
     "start_time": "2024-02-15T17:45:57.800794Z"
    }
   },
   "id": "eac98e08cd054593",
   "execution_count": 8
  },
  {
   "cell_type": "code",
   "outputs": [],
   "source": [
    "X_train, X_test, y_train, y_test = train_test_split(X, y, test_size=0.25, random_state=42)"
   ],
   "metadata": {
    "collapsed": false,
    "ExecuteTime": {
     "end_time": "2024-02-15T17:45:57.890630Z",
     "start_time": "2024-02-15T17:45:57.804814Z"
    }
   },
   "id": "93af7c4f691c978a",
   "execution_count": 9
  },
  {
   "cell_type": "code",
   "outputs": [],
   "source": [
    "model = Pipeline(steps=[\n",
    "    ('preprocessor', preprocessor),\n",
    "    ('classifier', LogisticRegression(random_state=42))\n",
    "])"
   ],
   "metadata": {
    "collapsed": false,
    "ExecuteTime": {
     "end_time": "2024-02-15T17:45:57.891011Z",
     "start_time": "2024-02-15T17:45:57.810806Z"
    }
   },
   "id": "8ab65545429fd1a2",
   "execution_count": 10
  },
  {
   "cell_type": "code",
   "outputs": [
    {
     "data": {
      "text/plain": "0.864"
     },
     "execution_count": 11,
     "metadata": {},
     "output_type": "execute_result"
    }
   ],
   "source": [
    "#fit the model on the training set\n",
    "model.fit(X_train, y_train)\n",
    "\n",
    "#predict\n",
    "y_pred = model.predict(X_test)  \n",
    "\n",
    "\n",
    "#Evaluate\n",
    "accuracy_score(y_test, y_pred)"
   ],
   "metadata": {
    "collapsed": false,
    "ExecuteTime": {
     "end_time": "2024-02-15T17:45:57.924362Z",
     "start_time": "2024-02-15T17:45:57.814894Z"
    }
   },
   "id": "4ef84c04e6e7f52d",
   "execution_count": 11
  },
  {
   "cell_type": "code",
   "outputs": [
    {
     "name": "stderr",
     "output_type": "stream",
     "text": [
      "/Library/Frameworks/Python.framework/Versions/3.9/lib/python3.9/site-packages/sklearn/cluster/_kmeans.py:1412: FutureWarning: The default value of `n_init` will change from 10 to 'auto' in 1.4. Set the value of `n_init` explicitly to suppress the warning\n",
      "  super()._check_params_vs_input(X, default_n_init=10)\n"
     ]
    }
   ],
   "source": [
    "#Unsupervised Learning  - kmeans clustering\n",
    "#This does not require splitting into training and test sets\n",
    "\n",
    "kmeans = KMeans(n_clusters=5, random_state=42)\n",
    "bank['cluster'] = kmeans.fit_predict(bank[['Age', 'Annual_Income', 'Credit_Score']])"
   ],
   "metadata": {
    "collapsed": false,
    "ExecuteTime": {
     "end_time": "2024-02-15T17:45:57.987846Z",
     "start_time": "2024-02-15T17:45:57.844959Z"
    }
   },
   "id": "f862bc399ca0fb1a",
   "execution_count": 12
  },
  {
   "cell_type": "code",
   "outputs": [],
   "source": [],
   "metadata": {
    "collapsed": false,
    "ExecuteTime": {
     "end_time": "2024-02-15T17:45:57.988166Z",
     "start_time": "2024-02-15T17:45:57.944848Z"
    }
   },
   "id": "a53389b5f882dca",
   "execution_count": 12
  }
 ],
 "metadata": {
  "kernelspec": {
   "display_name": "Python 3",
   "language": "python",
   "name": "python3"
  },
  "language_info": {
   "codemirror_mode": {
    "name": "ipython",
    "version": 2
   },
   "file_extension": ".py",
   "mimetype": "text/x-python",
   "name": "python",
   "nbconvert_exporter": "python",
   "pygments_lexer": "ipython2",
   "version": "2.7.6"
  }
 },
 "nbformat": 4,
 "nbformat_minor": 5
}
