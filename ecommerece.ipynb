{
 "cells": [
  {
   "cell_type": "code",
   "execution_count": 19,
   "id": "initial_id",
   "metadata": {
    "collapsed": true,
    "ExecuteTime": {
     "end_time": "2024-02-25T23:26:06.677512Z",
     "start_time": "2024-02-25T23:26:06.651672Z"
    }
   },
   "outputs": [],
   "source": [
    "import pandas as pd \n",
    "import numpy as np\n",
    "from sklearn.decomposition import PCA\n",
    "from sklearn.preprocessing import StandardScaler"
   ]
  },
  {
   "cell_type": "code",
   "outputs": [],
   "source": [
    "transactions = pd.read_csv(\"/Users/jeronimoperezrocha/Library/Containers/com.microsoft.Excel/Data/Downloads/ecommerce_transactions.csv\")"
   ],
   "metadata": {
    "collapsed": false,
    "ExecuteTime": {
     "end_time": "2024-02-25T23:26:06.699234Z",
     "start_time": "2024-02-25T23:26:06.683055Z"
    }
   },
   "id": "1c732d4fac4bdf4a",
   "execution_count": 20
  },
  {
   "cell_type": "code",
   "outputs": [
    {
     "data": {
      "text/plain": "     InvoiceNo  StockCode   Description  Quantity   InvoiceDate  UnitPrice  \\\n0       100001      25795     Product 1         3  2/21/21 0:00  12.355753   \n1       100002      10860     Product 2         5  1/27/21 0:00  39.831625   \n2       100003      86820     Product 3         5   6/6/21 0:00   2.216178   \n3       100004      64886     Product 4         5  8/27/21 0:00  29.348938   \n4       100005      16265     Product 5         3   6/5/21 0:00  49.774157   \n..         ...        ...           ...       ...           ...        ...   \n995     100996      97388   Product 996         6  4/30/21 0:00  19.856127   \n996     100997      18007   Product 997         3   5/7/21 0:00  12.093067   \n997     100998      51832   Product 998         2  9/12/21 0:00  11.367919   \n998     100999      68596   Product 999         4   7/2/21 0:00  48.013209   \n999     101000      40523  Product 1000         5  1/16/21 0:00  31.006874   \n\n     CustomerID  \n0          1136  \n1          1174  \n2          1288  \n3          1445  \n4          1480  \n..          ...  \n995        1350  \n996        1433  \n997        1339  \n998        1139  \n999        1470  \n\n[1000 rows x 7 columns]",
      "text/html": "<div>\n<style scoped>\n    .dataframe tbody tr th:only-of-type {\n        vertical-align: middle;\n    }\n\n    .dataframe tbody tr th {\n        vertical-align: top;\n    }\n\n    .dataframe thead th {\n        text-align: right;\n    }\n</style>\n<table border=\"1\" class=\"dataframe\">\n  <thead>\n    <tr style=\"text-align: right;\">\n      <th></th>\n      <th>InvoiceNo</th>\n      <th>StockCode</th>\n      <th>Description</th>\n      <th>Quantity</th>\n      <th>InvoiceDate</th>\n      <th>UnitPrice</th>\n      <th>CustomerID</th>\n    </tr>\n  </thead>\n  <tbody>\n    <tr>\n      <th>0</th>\n      <td>100001</td>\n      <td>25795</td>\n      <td>Product 1</td>\n      <td>3</td>\n      <td>2/21/21 0:00</td>\n      <td>12.355753</td>\n      <td>1136</td>\n    </tr>\n    <tr>\n      <th>1</th>\n      <td>100002</td>\n      <td>10860</td>\n      <td>Product 2</td>\n      <td>5</td>\n      <td>1/27/21 0:00</td>\n      <td>39.831625</td>\n      <td>1174</td>\n    </tr>\n    <tr>\n      <th>2</th>\n      <td>100003</td>\n      <td>86820</td>\n      <td>Product 3</td>\n      <td>5</td>\n      <td>6/6/21 0:00</td>\n      <td>2.216178</td>\n      <td>1288</td>\n    </tr>\n    <tr>\n      <th>3</th>\n      <td>100004</td>\n      <td>64886</td>\n      <td>Product 4</td>\n      <td>5</td>\n      <td>8/27/21 0:00</td>\n      <td>29.348938</td>\n      <td>1445</td>\n    </tr>\n    <tr>\n      <th>4</th>\n      <td>100005</td>\n      <td>16265</td>\n      <td>Product 5</td>\n      <td>3</td>\n      <td>6/5/21 0:00</td>\n      <td>49.774157</td>\n      <td>1480</td>\n    </tr>\n    <tr>\n      <th>...</th>\n      <td>...</td>\n      <td>...</td>\n      <td>...</td>\n      <td>...</td>\n      <td>...</td>\n      <td>...</td>\n      <td>...</td>\n    </tr>\n    <tr>\n      <th>995</th>\n      <td>100996</td>\n      <td>97388</td>\n      <td>Product 996</td>\n      <td>6</td>\n      <td>4/30/21 0:00</td>\n      <td>19.856127</td>\n      <td>1350</td>\n    </tr>\n    <tr>\n      <th>996</th>\n      <td>100997</td>\n      <td>18007</td>\n      <td>Product 997</td>\n      <td>3</td>\n      <td>5/7/21 0:00</td>\n      <td>12.093067</td>\n      <td>1433</td>\n    </tr>\n    <tr>\n      <th>997</th>\n      <td>100998</td>\n      <td>51832</td>\n      <td>Product 998</td>\n      <td>2</td>\n      <td>9/12/21 0:00</td>\n      <td>11.367919</td>\n      <td>1339</td>\n    </tr>\n    <tr>\n      <th>998</th>\n      <td>100999</td>\n      <td>68596</td>\n      <td>Product 999</td>\n      <td>4</td>\n      <td>7/2/21 0:00</td>\n      <td>48.013209</td>\n      <td>1139</td>\n    </tr>\n    <tr>\n      <th>999</th>\n      <td>101000</td>\n      <td>40523</td>\n      <td>Product 1000</td>\n      <td>5</td>\n      <td>1/16/21 0:00</td>\n      <td>31.006874</td>\n      <td>1470</td>\n    </tr>\n  </tbody>\n</table>\n<p>1000 rows × 7 columns</p>\n</div>"
     },
     "execution_count": 21,
     "metadata": {},
     "output_type": "execute_result"
    }
   ],
   "source": [
    "transactions"
   ],
   "metadata": {
    "collapsed": false,
    "ExecuteTime": {
     "end_time": "2024-02-25T23:26:06.712540Z",
     "start_time": "2024-02-25T23:26:06.704915Z"
    }
   },
   "id": "984973ebadc70736",
   "execution_count": 21
  },
  {
   "cell_type": "code",
   "outputs": [
    {
     "data": {
      "text/plain": "InvoiceNo      0\nStockCode      0\nDescription    0\nQuantity       0\nInvoiceDate    0\nUnitPrice      0\nCustomerID     0\ndtype: int64"
     },
     "execution_count": 22,
     "metadata": {},
     "output_type": "execute_result"
    }
   ],
   "source": [
    "transactions.isnull().sum()"
   ],
   "metadata": {
    "collapsed": false,
    "ExecuteTime": {
     "end_time": "2024-02-25T23:26:06.745205Z",
     "start_time": "2024-02-25T23:26:06.711827Z"
    }
   },
   "id": "2e9251bcec4a0ffb",
   "execution_count": 22
  },
  {
   "cell_type": "code",
   "outputs": [],
   "source": [
    "#Del Description \n",
    "del transactions['Description']"
   ],
   "metadata": {
    "collapsed": false,
    "ExecuteTime": {
     "end_time": "2024-02-25T23:26:06.745789Z",
     "start_time": "2024-02-25T23:26:06.719404Z"
    }
   },
   "id": "8d717f8d5276bfbb",
   "execution_count": 23
  },
  {
   "cell_type": "code",
   "outputs": [],
   "source": [
    "del transactions['InvoiceDate']"
   ],
   "metadata": {
    "collapsed": false,
    "ExecuteTime": {
     "end_time": "2024-02-25T23:26:06.746082Z",
     "start_time": "2024-02-25T23:26:06.726013Z"
    }
   },
   "id": "2f01d5ee4105dcd0",
   "execution_count": 24
  },
  {
   "cell_type": "markdown",
   "source": [
    "Principal Component Analysis"
   ],
   "metadata": {
    "collapsed": false
   },
   "id": "3ef7aa2ed384dc4c"
  },
  {
   "cell_type": "code",
   "outputs": [],
   "source": [
    "#Standarize transactions/RFM Features\n",
    "scaler = StandardScaler()\n",
    "transactions_scaled = scaler.fit_transform(transactions)"
   ],
   "metadata": {
    "collapsed": false,
    "ExecuteTime": {
     "end_time": "2024-02-25T23:26:06.749897Z",
     "start_time": "2024-02-25T23:26:06.734346Z"
    }
   },
   "id": "9f799d7c55997e10",
   "execution_count": 25
  },
  {
   "cell_type": "code",
   "outputs": [],
   "source": [],
   "metadata": {
    "collapsed": false,
    "ExecuteTime": {
     "end_time": "2024-02-25T23:26:06.767245Z",
     "start_time": "2024-02-25T23:26:06.739861Z"
    }
   },
   "id": "168aa56188dffecb",
   "execution_count": 25
  }
 ],
 "metadata": {
  "kernelspec": {
   "display_name": "Python 3",
   "language": "python",
   "name": "python3"
  },
  "language_info": {
   "codemirror_mode": {
    "name": "ipython",
    "version": 2
   },
   "file_extension": ".py",
   "mimetype": "text/x-python",
   "name": "python",
   "nbconvert_exporter": "python",
   "pygments_lexer": "ipython2",
   "version": "2.7.6"
  }
 },
 "nbformat": 4,
 "nbformat_minor": 5
}
