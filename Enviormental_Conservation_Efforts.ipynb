{
 "cells": [
  {
   "cell_type": "code",
   "execution_count": 33,
   "id": "initial_id",
   "metadata": {
    "collapsed": true,
    "ExecuteTime": {
     "end_time": "2024-02-20T17:30:11.791436Z",
     "start_time": "2024-02-20T17:30:11.784462Z"
    }
   },
   "outputs": [],
   "source": [
    "import pandas as pd\n",
    "import numpy as np\n",
    "import matplotlib.pyplot as plt\n",
    "from math import sqrt\n",
    "from sklearn.ensemble import RandomForestClassifier\n",
    "from sklearn.cluster import KMeans\n",
    "from sklearn.model_selection import train_test_split\n",
    "from sklearn.linear_model import LogisticRegression\n",
    "from sklearn.neighbors import KNeighborsClassifier\n",
    "from sklearn.svm import SVC\n",
    "from sklearn.metrics import accuracy_score, confusion_matrix, classification_report"
   ]
  },
  {
   "cell_type": "code",
   "outputs": [],
   "source": [
    "data = pd.read_csv('/Users/jeronimoperezrocha/Library/Containers/com.microsoft.Excel/Data/Downloads/environmental_data.csv')"
   ],
   "metadata": {
    "collapsed": false,
    "ExecuteTime": {
     "end_time": "2024-02-20T17:30:11.896458Z",
     "start_time": "2024-02-20T17:30:11.810830Z"
    }
   },
   "id": "ab570f2f19fefdfa",
   "execution_count": 34
  },
  {
   "cell_type": "code",
   "outputs": [
    {
     "data": {
      "text/plain": "   ImageID  GreenCover  WaterBodies    BuiltUp    Elevation  \\\n0        1   37.454012    18.513293  44.032695  1177.675577   \n1        2   95.071431    54.190095 -49.261525  1111.404596   \n2        3   73.199394    87.294584 -60.493978  4078.145612   \n3        4   59.865848    73.222489 -33.088337  1122.957899   \n4        5   15.601864    80.656115   3.742021  1223.773768   \n\n   AverageTemperature DeforestationRisk  \n0           23.635150            Medium  \n1           29.834070            Medium  \n2            2.523395            Medium  \n3           21.243705            Medium  \n4           18.587299            Medium  ",
      "text/html": "<div>\n<style scoped>\n    .dataframe tbody tr th:only-of-type {\n        vertical-align: middle;\n    }\n\n    .dataframe tbody tr th {\n        vertical-align: top;\n    }\n\n    .dataframe thead th {\n        text-align: right;\n    }\n</style>\n<table border=\"1\" class=\"dataframe\">\n  <thead>\n    <tr style=\"text-align: right;\">\n      <th></th>\n      <th>ImageID</th>\n      <th>GreenCover</th>\n      <th>WaterBodies</th>\n      <th>BuiltUp</th>\n      <th>Elevation</th>\n      <th>AverageTemperature</th>\n      <th>DeforestationRisk</th>\n    </tr>\n  </thead>\n  <tbody>\n    <tr>\n      <th>0</th>\n      <td>1</td>\n      <td>37.454012</td>\n      <td>18.513293</td>\n      <td>44.032695</td>\n      <td>1177.675577</td>\n      <td>23.635150</td>\n      <td>Medium</td>\n    </tr>\n    <tr>\n      <th>1</th>\n      <td>2</td>\n      <td>95.071431</td>\n      <td>54.190095</td>\n      <td>-49.261525</td>\n      <td>1111.404596</td>\n      <td>29.834070</td>\n      <td>Medium</td>\n    </tr>\n    <tr>\n      <th>2</th>\n      <td>3</td>\n      <td>73.199394</td>\n      <td>87.294584</td>\n      <td>-60.493978</td>\n      <td>4078.145612</td>\n      <td>2.523395</td>\n      <td>Medium</td>\n    </tr>\n    <tr>\n      <th>3</th>\n      <td>4</td>\n      <td>59.865848</td>\n      <td>73.222489</td>\n      <td>-33.088337</td>\n      <td>1122.957899</td>\n      <td>21.243705</td>\n      <td>Medium</td>\n    </tr>\n    <tr>\n      <th>4</th>\n      <td>5</td>\n      <td>15.601864</td>\n      <td>80.656115</td>\n      <td>3.742021</td>\n      <td>1223.773768</td>\n      <td>18.587299</td>\n      <td>Medium</td>\n    </tr>\n  </tbody>\n</table>\n</div>"
     },
     "execution_count": 35,
     "metadata": {},
     "output_type": "execute_result"
    }
   ],
   "source": [
    "data.head()\n"
   ],
   "metadata": {
    "collapsed": false,
    "ExecuteTime": {
     "end_time": "2024-02-20T17:30:12.738655Z",
     "start_time": "2024-02-20T17:30:12.725273Z"
    }
   },
   "id": "57abfd5b9bd1db16",
   "execution_count": 35
  },
  {
   "cell_type": "code",
   "outputs": [
    {
     "data": {
      "text/plain": "ImageID               0\nGreenCover            0\nWaterBodies           0\nBuiltUp               0\nElevation             0\nAverageTemperature    0\nDeforestationRisk     0\ndtype: int64"
     },
     "execution_count": 36,
     "metadata": {},
     "output_type": "execute_result"
    }
   ],
   "source": [
    "data.isnull().sum()"
   ],
   "metadata": {
    "collapsed": false,
    "ExecuteTime": {
     "end_time": "2024-02-20T17:30:13.599175Z",
     "start_time": "2024-02-20T17:30:13.569327Z"
    }
   },
   "id": "d1b057cfd1264251",
   "execution_count": 36
  },
  {
   "cell_type": "code",
   "outputs": [],
   "source": [
    "#dummy variables for deforestation_risk\n",
    "deforestation_risk = {'Low':0, 'Medium':1, 'High':2}\n",
    "data['DeforestationRisk'] = data['DeforestationRisk'].replace(deforestation_risk)"
   ],
   "metadata": {
    "collapsed": false,
    "ExecuteTime": {
     "end_time": "2024-02-20T17:30:14.640064Z",
     "start_time": "2024-02-20T17:30:14.629485Z"
    }
   },
   "id": "32ff0b79ffc27352",
   "execution_count": 37
  },
  {
   "cell_type": "code",
   "outputs": [
    {
     "name": "stderr",
     "output_type": "stream",
     "text": [
      "/Library/Frameworks/Python.framework/Versions/3.9/lib/python3.9/site-packages/sklearn/cluster/_kmeans.py:1412: FutureWarning: The default value of `n_init` will change from 10 to 'auto' in 1.4. Set the value of `n_init` explicitly to suppress the warning\n",
      "  super()._check_params_vs_input(X, default_n_init=10)\n"
     ]
    },
    {
     "data": {
      "text/plain": "KMeans(n_clusters=9)",
      "text/html": "<style>#sk-container-id-3 {color: black;}#sk-container-id-3 pre{padding: 0;}#sk-container-id-3 div.sk-toggleable {background-color: white;}#sk-container-id-3 label.sk-toggleable__label {cursor: pointer;display: block;width: 100%;margin-bottom: 0;padding: 0.3em;box-sizing: border-box;text-align: center;}#sk-container-id-3 label.sk-toggleable__label-arrow:before {content: \"▸\";float: left;margin-right: 0.25em;color: #696969;}#sk-container-id-3 label.sk-toggleable__label-arrow:hover:before {color: black;}#sk-container-id-3 div.sk-estimator:hover label.sk-toggleable__label-arrow:before {color: black;}#sk-container-id-3 div.sk-toggleable__content {max-height: 0;max-width: 0;overflow: hidden;text-align: left;background-color: #f0f8ff;}#sk-container-id-3 div.sk-toggleable__content pre {margin: 0.2em;color: black;border-radius: 0.25em;background-color: #f0f8ff;}#sk-container-id-3 input.sk-toggleable__control:checked~div.sk-toggleable__content {max-height: 200px;max-width: 100%;overflow: auto;}#sk-container-id-3 input.sk-toggleable__control:checked~label.sk-toggleable__label-arrow:before {content: \"▾\";}#sk-container-id-3 div.sk-estimator input.sk-toggleable__control:checked~label.sk-toggleable__label {background-color: #d4ebff;}#sk-container-id-3 div.sk-label input.sk-toggleable__control:checked~label.sk-toggleable__label {background-color: #d4ebff;}#sk-container-id-3 input.sk-hidden--visually {border: 0;clip: rect(1px 1px 1px 1px);clip: rect(1px, 1px, 1px, 1px);height: 1px;margin: -1px;overflow: hidden;padding: 0;position: absolute;width: 1px;}#sk-container-id-3 div.sk-estimator {font-family: monospace;background-color: #f0f8ff;border: 1px dotted black;border-radius: 0.25em;box-sizing: border-box;margin-bottom: 0.5em;}#sk-container-id-3 div.sk-estimator:hover {background-color: #d4ebff;}#sk-container-id-3 div.sk-parallel-item::after {content: \"\";width: 100%;border-bottom: 1px solid gray;flex-grow: 1;}#sk-container-id-3 div.sk-label:hover label.sk-toggleable__label {background-color: #d4ebff;}#sk-container-id-3 div.sk-serial::before {content: \"\";position: absolute;border-left: 1px solid gray;box-sizing: border-box;top: 0;bottom: 0;left: 50%;z-index: 0;}#sk-container-id-3 div.sk-serial {display: flex;flex-direction: column;align-items: center;background-color: white;padding-right: 0.2em;padding-left: 0.2em;position: relative;}#sk-container-id-3 div.sk-item {position: relative;z-index: 1;}#sk-container-id-3 div.sk-parallel {display: flex;align-items: stretch;justify-content: center;background-color: white;position: relative;}#sk-container-id-3 div.sk-item::before, #sk-container-id-3 div.sk-parallel-item::before {content: \"\";position: absolute;border-left: 1px solid gray;box-sizing: border-box;top: 0;bottom: 0;left: 50%;z-index: -1;}#sk-container-id-3 div.sk-parallel-item {display: flex;flex-direction: column;z-index: 1;position: relative;background-color: white;}#sk-container-id-3 div.sk-parallel-item:first-child::after {align-self: flex-end;width: 50%;}#sk-container-id-3 div.sk-parallel-item:last-child::after {align-self: flex-start;width: 50%;}#sk-container-id-3 div.sk-parallel-item:only-child::after {width: 0;}#sk-container-id-3 div.sk-dashed-wrapped {border: 1px dashed gray;margin: 0 0.4em 0.5em 0.4em;box-sizing: border-box;padding-bottom: 0.4em;background-color: white;}#sk-container-id-3 div.sk-label label {font-family: monospace;font-weight: bold;display: inline-block;line-height: 1.2em;}#sk-container-id-3 div.sk-label-container {text-align: center;}#sk-container-id-3 div.sk-container {/* jupyter's `normalize.less` sets `[hidden] { display: none; }` but bootstrap.min.css set `[hidden] { display: none !important; }` so we also need the `!important` here to be able to override the default hidden behavior on the sphinx rendered scikit-learn.org. See: https://github.com/scikit-learn/scikit-learn/issues/21755 */display: inline-block !important;position: relative;}#sk-container-id-3 div.sk-text-repr-fallback {display: none;}</style><div id=\"sk-container-id-3\" class=\"sk-top-container\"><div class=\"sk-text-repr-fallback\"><pre>KMeans(n_clusters=9)</pre><b>In a Jupyter environment, please rerun this cell to show the HTML representation or trust the notebook. <br />On GitHub, the HTML representation is unable to render, please try loading this page with nbviewer.org.</b></div><div class=\"sk-container\" hidden><div class=\"sk-item\"><div class=\"sk-estimator sk-toggleable\"><input class=\"sk-toggleable__control sk-hidden--visually\" id=\"sk-estimator-id-3\" type=\"checkbox\" checked><label for=\"sk-estimator-id-3\" class=\"sk-toggleable__label sk-toggleable__label-arrow\">KMeans</label><div class=\"sk-toggleable__content\"><pre>KMeans(n_clusters=9)</pre></div></div></div></div></div>"
     },
     "execution_count": 38,
     "metadata": {},
     "output_type": "execute_result"
    }
   ],
   "source": [
    "#Clusters\n",
    "kmeans = KMeans(n_clusters=9)\n",
    "kmeans.fit(data)"
   ],
   "metadata": {
    "collapsed": false,
    "ExecuteTime": {
     "end_time": "2024-02-20T17:30:15.674520Z",
     "start_time": "2024-02-20T17:30:15.587591Z"
    }
   },
   "id": "3a00d292b7fb7e54",
   "execution_count": 38
  },
  {
   "cell_type": "code",
   "outputs": [],
   "source": [
    "data['Cluster'] = kmeans.predict(data)"
   ],
   "metadata": {
    "collapsed": false,
    "ExecuteTime": {
     "end_time": "2024-02-20T17:30:16.553846Z",
     "start_time": "2024-02-20T17:30:16.545583Z"
    }
   },
   "id": "beaa89917720d1c9",
   "execution_count": 39
  },
  {
   "cell_type": "code",
   "outputs": [],
   "source": [
    "clusters = data.groupby('Cluster').mean()"
   ],
   "metadata": {
    "collapsed": false,
    "ExecuteTime": {
     "end_time": "2024-02-20T17:30:17.377821Z",
     "start_time": "2024-02-20T17:30:17.370680Z"
    }
   },
   "id": "7bd0f4fdeeb82ad2",
   "execution_count": 40
  },
  {
   "cell_type": "code",
   "outputs": [
    {
     "data": {
      "text/plain": "            ImageID  GreenCover  WaterBodies   BuiltUp    Elevation  \\\nCluster                                                               \n0        705.761905   51.550588    48.759156 -0.309745  4246.939844   \n1        500.596386   52.054650    51.684047 -3.738697  1274.937954   \n2        435.160839   51.566774    48.056894  0.376332  2881.963450   \n3        740.631579   44.787645    53.272401  1.939953   375.864825   \n4        741.320755   48.322614    47.768601  3.908785  2007.614978   \n5        740.764151   45.088069    51.432105  3.479826  3470.235438   \n6        233.132653   50.967110    47.572356  1.460534   447.436420   \n7        215.018868   49.815110    58.203250 -8.018360  3903.657376   \n8        237.385417   44.257794    49.442555  6.299651  2149.235349   \n\n         AverageTemperature  DeforestationRisk  \nCluster                                         \n0                 15.476554           1.630952  \n1                 14.375030           1.000000  \n2                 14.767062           1.160839  \n3                 14.816064           1.284211  \n4                 13.342419           1.009434  \n5                 13.189388           1.669811  \n6                 15.010567           1.244898  \n7                 13.902903           1.566038  \n8                 16.209752           1.020833  ",
      "text/html": "<div>\n<style scoped>\n    .dataframe tbody tr th:only-of-type {\n        vertical-align: middle;\n    }\n\n    .dataframe tbody tr th {\n        vertical-align: top;\n    }\n\n    .dataframe thead th {\n        text-align: right;\n    }\n</style>\n<table border=\"1\" class=\"dataframe\">\n  <thead>\n    <tr style=\"text-align: right;\">\n      <th></th>\n      <th>ImageID</th>\n      <th>GreenCover</th>\n      <th>WaterBodies</th>\n      <th>BuiltUp</th>\n      <th>Elevation</th>\n      <th>AverageTemperature</th>\n      <th>DeforestationRisk</th>\n    </tr>\n    <tr>\n      <th>Cluster</th>\n      <th></th>\n      <th></th>\n      <th></th>\n      <th></th>\n      <th></th>\n      <th></th>\n      <th></th>\n    </tr>\n  </thead>\n  <tbody>\n    <tr>\n      <th>0</th>\n      <td>705.761905</td>\n      <td>51.550588</td>\n      <td>48.759156</td>\n      <td>-0.309745</td>\n      <td>4246.939844</td>\n      <td>15.476554</td>\n      <td>1.630952</td>\n    </tr>\n    <tr>\n      <th>1</th>\n      <td>500.596386</td>\n      <td>52.054650</td>\n      <td>51.684047</td>\n      <td>-3.738697</td>\n      <td>1274.937954</td>\n      <td>14.375030</td>\n      <td>1.000000</td>\n    </tr>\n    <tr>\n      <th>2</th>\n      <td>435.160839</td>\n      <td>51.566774</td>\n      <td>48.056894</td>\n      <td>0.376332</td>\n      <td>2881.963450</td>\n      <td>14.767062</td>\n      <td>1.160839</td>\n    </tr>\n    <tr>\n      <th>3</th>\n      <td>740.631579</td>\n      <td>44.787645</td>\n      <td>53.272401</td>\n      <td>1.939953</td>\n      <td>375.864825</td>\n      <td>14.816064</td>\n      <td>1.284211</td>\n    </tr>\n    <tr>\n      <th>4</th>\n      <td>741.320755</td>\n      <td>48.322614</td>\n      <td>47.768601</td>\n      <td>3.908785</td>\n      <td>2007.614978</td>\n      <td>13.342419</td>\n      <td>1.009434</td>\n    </tr>\n    <tr>\n      <th>5</th>\n      <td>740.764151</td>\n      <td>45.088069</td>\n      <td>51.432105</td>\n      <td>3.479826</td>\n      <td>3470.235438</td>\n      <td>13.189388</td>\n      <td>1.669811</td>\n    </tr>\n    <tr>\n      <th>6</th>\n      <td>233.132653</td>\n      <td>50.967110</td>\n      <td>47.572356</td>\n      <td>1.460534</td>\n      <td>447.436420</td>\n      <td>15.010567</td>\n      <td>1.244898</td>\n    </tr>\n    <tr>\n      <th>7</th>\n      <td>215.018868</td>\n      <td>49.815110</td>\n      <td>58.203250</td>\n      <td>-8.018360</td>\n      <td>3903.657376</td>\n      <td>13.902903</td>\n      <td>1.566038</td>\n    </tr>\n    <tr>\n      <th>8</th>\n      <td>237.385417</td>\n      <td>44.257794</td>\n      <td>49.442555</td>\n      <td>6.299651</td>\n      <td>2149.235349</td>\n      <td>16.209752</td>\n      <td>1.020833</td>\n    </tr>\n  </tbody>\n</table>\n</div>"
     },
     "execution_count": 41,
     "metadata": {},
     "output_type": "execute_result"
    }
   ],
   "source": [
    "clusters"
   ],
   "metadata": {
    "collapsed": false,
    "ExecuteTime": {
     "end_time": "2024-02-20T17:30:18.073284Z",
     "start_time": "2024-02-20T17:30:18.047316Z"
    }
   },
   "id": "65b11de68efa18d5",
   "execution_count": 41
  },
  {
   "cell_type": "code",
   "outputs": [],
   "source": [
    "#define x and y\n",
    "x = data[['AverageTemperature', 'GreenCover', 'DeforestationRisk', 'BuiltUp', 'WaterBodies']]\n",
    "y = data['DeforestationRisk']"
   ],
   "metadata": {
    "collapsed": false,
    "ExecuteTime": {
     "end_time": "2024-02-20T17:32:43.038644Z",
     "start_time": "2024-02-20T17:32:43.031013Z"
    }
   },
   "id": "cc45665f52e0a329",
   "execution_count": 46
  },
  {
   "cell_type": "code",
   "outputs": [],
   "source": [
    "x_train, x_test, y_train, y_test = train_test_split(x, y, test_size=0.25, random_state=50)"
   ],
   "metadata": {
    "collapsed": false,
    "ExecuteTime": {
     "end_time": "2024-02-20T17:32:43.846597Z",
     "start_time": "2024-02-20T17:32:43.826073Z"
    }
   },
   "id": "343066c366960ad",
   "execution_count": 47
  },
  {
   "cell_type": "code",
   "outputs": [
    {
     "name": "stdout",
     "output_type": "stream",
     "text": [
      "LogisticRegression()\n",
      "Confusion Matrix:\n",
      " [[ 29   0   0]\n",
      " [  0 145   0]\n",
      " [  0   0  76]]\n",
      "Accuracy Score:\n",
      " 1.0\n",
      "\n",
      "KNeighborsClassifier()\n",
      "Confusion Matrix:\n",
      " [[  5  18   6]\n",
      " [  9 104  32]\n",
      " [  6  33  37]]\n",
      "Accuracy Score:\n",
      " 0.584\n",
      "\n",
      "SVC()\n",
      "Confusion Matrix:\n",
      " [[  0  26   3]\n",
      " [  0 104  41]\n",
      " [  0  30  46]]\n",
      "Accuracy Score:\n",
      " 0.6\n"
     ]
    }
   ],
   "source": [
    "for model in [LogisticRegression(), KNeighborsClassifier(), SVC()]:\n",
    "    model.fit(x_train, y_train)\n",
    "    y_pred = model.predict(x_test)\n",
    "    print(model)\n",
    "    print(\"Confusion Matrix:\\n\", confusion_matrix(y_test, y_pred))\n",
    "    print(\"Accuracy Score:\\n\", accuracy_score(y_test,y_pred))\n",
    "    print()\n",
    "    "
   ],
   "metadata": {
    "collapsed": false,
    "ExecuteTime": {
     "end_time": "2024-02-20T17:32:44.601521Z",
     "start_time": "2024-02-20T17:32:44.506695Z"
    }
   },
   "id": "b9c91d3cb0f63fc6",
   "execution_count": 48
  },
  {
   "cell_type": "code",
   "outputs": [],
   "source": [
    "#random forest\n",
    "from sklearn.ensemble import RandomForestClassifier\n",
    "from sklearn.model_selection import cross_val_score"
   ],
   "metadata": {
    "collapsed": false,
    "ExecuteTime": {
     "end_time": "2024-02-20T17:31:09.257184Z",
     "start_time": "2024-02-20T17:31:09.250525Z"
    }
   },
   "id": "5622e8c290fa8ec1",
   "execution_count": 45
  },
  {
   "cell_type": "code",
   "outputs": [
    {
     "name": "stdout",
     "output_type": "stream",
     "text": [
      "Confusion Matrix:\n",
      " [[ 15   0   0]\n",
      " [  0 107   0]\n",
      " [  0   0  78]]\n",
      "Accuracy Score:\n",
      " 1.0\n"
     ]
    }
   ],
   "source": [
    "model = RandomForestClassifier(n_estimators=1) #n_estimators is the number of trees in the forest\n",
    "model.fit(x_train, y_train)\n",
    "y_pred = model.predict(x_test)\n",
    "print(\"Confusion Matrix:\\n\", confusion_matrix(y_test, y_pred))\n",
    "print(\"Accuracy Score:\\n\", accuracy_score(y_test,y_pred))\n",
    "print()"
   ],
   "metadata": {
    "collapsed": false,
    "ExecuteTime": {
     "end_time": "2024-02-20T17:19:07.559632Z",
     "start_time": "2024-02-20T17:19:07.558068Z"
    }
   },
   "id": "49f48476c9c5bc3d",
   "execution_count": 28
  },
  {
   "cell_type": "markdown",
   "source": [
    "for the first part of the analysis, I used the KMeans algorithm to cluster the data into 5 clusters. I then used the mean of each cluster to identify the characteristics of each cluster. I then used the clusters as a target variable to predict the deforestation risk. I used the following models: Logistic Regression, K-Nearest Neighbors, Support Vector Machine, and Random Forest. My Logistic Regression and Random Forest were overfitting. For the KNeighbors and Support Vector Machine, I got an accuracy of 0.6, respectively. I used test_size=0.20 and random_state=42. changing this might change the accuracy of the model. \n",
    "\n",
    " "
   ],
   "metadata": {
    "collapsed": false
   },
   "id": "86ba64074cc2335b"
  }
 ],
 "metadata": {
  "kernelspec": {
   "display_name": "Python 3",
   "language": "python",
   "name": "python3"
  },
  "language_info": {
   "codemirror_mode": {
    "name": "ipython",
    "version": 2
   },
   "file_extension": ".py",
   "mimetype": "text/x-python",
   "name": "python",
   "nbconvert_exporter": "python",
   "pygments_lexer": "ipython2",
   "version": "2.7.6"
  }
 },
 "nbformat": 4,
 "nbformat_minor": 5
}
