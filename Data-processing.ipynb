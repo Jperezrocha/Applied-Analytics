{
 "cells": [
  {
   "cell_type": "code",
   "execution_count": 2,
   "metadata": {
    "collapsed": true,
    "ExecuteTime": {
     "end_time": "2024-02-07T05:34:59.940726Z",
     "start_time": "2024-02-07T05:34:58.343740Z"
    }
   },
   "outputs": [],
   "source": [
    "import pandas as pd\n",
    "import numpy as np\n",
    "import matplotlib as plt\n",
    "from sklearn.impute import SimpleImputer\n",
    "from sklearn.model_selection import train_test_split\n",
    "from sklearn.linear_model import LogisticRegression\n",
    "from sklearn.metrics import accuracy_score, confusion_matrix, classification_report\n",
    "from sklearn.neighbors import KNeighborsClassifier\n",
    "from sklearn.svm import SVC"
   ]
  },
  {
   "cell_type": "code",
   "execution_count": 3,
   "outputs": [
    {
     "name": "stdout",
     "output_type": "stream",
     "text": [
      "     Age  MonthlyCharge  ContractDuration  DataUsage  InternationalPlan  \\\n",
      "0   62.0      53.660533                36   3.064977                  0   \n",
      "1   65.0      77.232663                36   8.922678                  1   \n",
      "2   18.0      52.204122                36        NaN                  1   \n",
      "3   21.0            NaN                12   9.617058                  1   \n",
      "4   21.0      96.469974                24   5.245764                  1   \n",
      "..   ...            ...               ...        ...                ...   \n",
      "95  32.0      90.545331                12   5.391411                  1   \n",
      "96  33.0      58.797771                12   5.126631                  1   \n",
      "97  38.0      39.798081                12   5.721334                  1   \n",
      "98  53.0      32.325567                12   4.978138                  0   \n",
      "99  41.0      98.780247                24   8.673714                  0   \n",
      "\n",
      "    Churn (y)  \n",
      "0           1  \n",
      "1           1  \n",
      "2           0  \n",
      "3           1  \n",
      "4           1  \n",
      "..        ...  \n",
      "95          1  \n",
      "96          1  \n",
      "97          0  \n",
      "98          0  \n",
      "99          0  \n",
      "\n",
      "[100 rows x 6 columns]\n"
     ]
    }
   ],
   "source": [
    "churndata = pd.read_csv('/Users/jeronimoperezrocha/Library/Containers/com.microsoft.Excel/Data/Downloads/customer_churn_data.csv')\n",
    "print(churndata)"
   ],
   "metadata": {
    "collapsed": false,
    "ExecuteTime": {
     "end_time": "2024-02-07T05:34:59.959697Z",
     "start_time": "2024-02-07T05:34:59.940442Z"
    }
   }
  },
  {
   "cell_type": "code",
   "execution_count": 4,
   "outputs": [
    {
     "data": {
      "text/plain": "    Age  MonthlyCharge  ContractDuration  DataUsage  InternationalPlan  \\\n0  62.0      53.660533                36   3.064977                  0   \n1  65.0      77.232663                36   8.922678                  1   \n2  18.0      52.204122                36        NaN                  1   \n3  21.0            NaN                12   9.617058                  1   \n4  21.0      96.469974                24   5.245764                  1   \n\n   Churn (y)  \n0          1  \n1          1  \n2          0  \n3          1  \n4          1  ",
      "text/html": "<div>\n<style scoped>\n    .dataframe tbody tr th:only-of-type {\n        vertical-align: middle;\n    }\n\n    .dataframe tbody tr th {\n        vertical-align: top;\n    }\n\n    .dataframe thead th {\n        text-align: right;\n    }\n</style>\n<table border=\"1\" class=\"dataframe\">\n  <thead>\n    <tr style=\"text-align: right;\">\n      <th></th>\n      <th>Age</th>\n      <th>MonthlyCharge</th>\n      <th>ContractDuration</th>\n      <th>DataUsage</th>\n      <th>InternationalPlan</th>\n      <th>Churn (y)</th>\n    </tr>\n  </thead>\n  <tbody>\n    <tr>\n      <th>0</th>\n      <td>62.0</td>\n      <td>53.660533</td>\n      <td>36</td>\n      <td>3.064977</td>\n      <td>0</td>\n      <td>1</td>\n    </tr>\n    <tr>\n      <th>1</th>\n      <td>65.0</td>\n      <td>77.232663</td>\n      <td>36</td>\n      <td>8.922678</td>\n      <td>1</td>\n      <td>1</td>\n    </tr>\n    <tr>\n      <th>2</th>\n      <td>18.0</td>\n      <td>52.204122</td>\n      <td>36</td>\n      <td>NaN</td>\n      <td>1</td>\n      <td>0</td>\n    </tr>\n    <tr>\n      <th>3</th>\n      <td>21.0</td>\n      <td>NaN</td>\n      <td>12</td>\n      <td>9.617058</td>\n      <td>1</td>\n      <td>1</td>\n    </tr>\n    <tr>\n      <th>4</th>\n      <td>21.0</td>\n      <td>96.469974</td>\n      <td>24</td>\n      <td>5.245764</td>\n      <td>1</td>\n      <td>1</td>\n    </tr>\n  </tbody>\n</table>\n</div>"
     },
     "execution_count": 4,
     "metadata": {},
     "output_type": "execute_result"
    }
   ],
   "source": [
    "churndata.head() #First Five Rows"
   ],
   "metadata": {
    "collapsed": false,
    "ExecuteTime": {
     "end_time": "2024-02-07T05:34:59.994702Z",
     "start_time": "2024-02-07T05:34:59.966789Z"
    }
   }
  },
  {
   "cell_type": "code",
   "execution_count": 5,
   "outputs": [
    {
     "data": {
      "text/plain": "             Age  MonthlyCharge  ContractDuration  DataUsage  \\\ncount  90.000000      90.000000         100.00000  90.000000   \nmean   41.655556      66.422045          23.04000   5.845470   \nstd    16.024673      20.456198           9.44727   2.499475   \nmin    18.000000      30.654969          12.00000   1.036433   \n25%    28.250000      50.600849          12.00000   3.787877   \n50%    39.500000      65.604954          24.00000   5.761262   \n75%    56.000000      83.500612          36.00000   7.915482   \nmax    69.000000      98.882957          36.00000   9.865291   \n\n       InternationalPlan   Churn (y)  \ncount         100.000000  100.000000  \nmean            0.530000    0.500000  \nstd             0.501614    0.502519  \nmin             0.000000    0.000000  \n25%             0.000000    0.000000  \n50%             1.000000    0.500000  \n75%             1.000000    1.000000  \nmax             1.000000    1.000000  ",
      "text/html": "<div>\n<style scoped>\n    .dataframe tbody tr th:only-of-type {\n        vertical-align: middle;\n    }\n\n    .dataframe tbody tr th {\n        vertical-align: top;\n    }\n\n    .dataframe thead th {\n        text-align: right;\n    }\n</style>\n<table border=\"1\" class=\"dataframe\">\n  <thead>\n    <tr style=\"text-align: right;\">\n      <th></th>\n      <th>Age</th>\n      <th>MonthlyCharge</th>\n      <th>ContractDuration</th>\n      <th>DataUsage</th>\n      <th>InternationalPlan</th>\n      <th>Churn (y)</th>\n    </tr>\n  </thead>\n  <tbody>\n    <tr>\n      <th>count</th>\n      <td>90.000000</td>\n      <td>90.000000</td>\n      <td>100.00000</td>\n      <td>90.000000</td>\n      <td>100.000000</td>\n      <td>100.000000</td>\n    </tr>\n    <tr>\n      <th>mean</th>\n      <td>41.655556</td>\n      <td>66.422045</td>\n      <td>23.04000</td>\n      <td>5.845470</td>\n      <td>0.530000</td>\n      <td>0.500000</td>\n    </tr>\n    <tr>\n      <th>std</th>\n      <td>16.024673</td>\n      <td>20.456198</td>\n      <td>9.44727</td>\n      <td>2.499475</td>\n      <td>0.501614</td>\n      <td>0.502519</td>\n    </tr>\n    <tr>\n      <th>min</th>\n      <td>18.000000</td>\n      <td>30.654969</td>\n      <td>12.00000</td>\n      <td>1.036433</td>\n      <td>0.000000</td>\n      <td>0.000000</td>\n    </tr>\n    <tr>\n      <th>25%</th>\n      <td>28.250000</td>\n      <td>50.600849</td>\n      <td>12.00000</td>\n      <td>3.787877</td>\n      <td>0.000000</td>\n      <td>0.000000</td>\n    </tr>\n    <tr>\n      <th>50%</th>\n      <td>39.500000</td>\n      <td>65.604954</td>\n      <td>24.00000</td>\n      <td>5.761262</td>\n      <td>1.000000</td>\n      <td>0.500000</td>\n    </tr>\n    <tr>\n      <th>75%</th>\n      <td>56.000000</td>\n      <td>83.500612</td>\n      <td>36.00000</td>\n      <td>7.915482</td>\n      <td>1.000000</td>\n      <td>1.000000</td>\n    </tr>\n    <tr>\n      <th>max</th>\n      <td>69.000000</td>\n      <td>98.882957</td>\n      <td>36.00000</td>\n      <td>9.865291</td>\n      <td>1.000000</td>\n      <td>1.000000</td>\n    </tr>\n  </tbody>\n</table>\n</div>"
     },
     "execution_count": 5,
     "metadata": {},
     "output_type": "execute_result"
    }
   ],
   "source": [
    "churndata.describe() #Describe"
   ],
   "metadata": {
    "collapsed": false,
    "ExecuteTime": {
     "end_time": "2024-02-07T05:35:00.008791Z",
     "start_time": "2024-02-07T05:34:59.974473Z"
    }
   }
  },
  {
   "cell_type": "code",
   "execution_count": 6,
   "outputs": [
    {
     "name": "stdout",
     "output_type": "stream",
     "text": [
      "<class 'pandas.core.frame.DataFrame'>\n",
      "RangeIndex: 100 entries, 0 to 99\n",
      "Data columns (total 6 columns):\n",
      " #   Column             Non-Null Count  Dtype  \n",
      "---  ------             --------------  -----  \n",
      " 0   Age                90 non-null     float64\n",
      " 1   MonthlyCharge      90 non-null     float64\n",
      " 2   ContractDuration   100 non-null    int64  \n",
      " 3   DataUsage          90 non-null     float64\n",
      " 4   InternationalPlan  100 non-null    int64  \n",
      " 5   Churn (y)          100 non-null    int64  \n",
      "dtypes: float64(3), int64(3)\n",
      "memory usage: 4.8 KB\n"
     ]
    }
   ],
   "source": [
    "churndata.info()"
   ],
   "metadata": {
    "collapsed": false,
    "ExecuteTime": {
     "end_time": "2024-02-07T05:35:00.037529Z",
     "start_time": "2024-02-07T05:34:59.994633Z"
    }
   }
  },
  {
   "cell_type": "code",
   "outputs": [
    {
     "name": "stdout",
     "output_type": "stream",
     "text": [
      "     Age  MonthlyCharge  ContractDuration  DataUsage  InternationalPlan  Churn\n",
      "0   62.0      53.660533                36   3.064977                  0      1\n",
      "1   65.0      77.232663                36   8.922678                  1      1\n",
      "2   18.0      52.204122                36        NaN                  1      0\n",
      "3   21.0            NaN                12   9.617058                  1      1\n",
      "4   21.0      96.469974                24   5.245764                  1      1\n",
      "..   ...            ...               ...        ...                ...    ...\n",
      "95  32.0      90.545331                12   5.391411                  1      1\n",
      "96  33.0      58.797771                12   5.126631                  1      1\n",
      "97  38.0      39.798081                12   5.721334                  1      0\n",
      "98  53.0      32.325567                12   4.978138                  0      0\n",
      "99  41.0      98.780247                24   8.673714                  0      0\n",
      "\n",
      "[100 rows x 6 columns]\n"
     ]
    }
   ],
   "source": [
    "#reanma colum churn \n",
    "churndata.rename(columns={'Churn (y)': 'Churn'}, inplace=True)\n",
    "print(churndata)"
   ],
   "metadata": {
    "collapsed": false,
    "ExecuteTime": {
     "end_time": "2024-02-07T05:35:00.540501Z",
     "start_time": "2024-02-07T05:35:00.536639Z"
    }
   },
   "execution_count": 8
  },
  {
   "cell_type": "code",
   "outputs": [
    {
     "data": {
      "text/plain": "             Age  MonthlyCharge  ContractDuration  DataUsage\ncount  90.000000      90.000000         100.00000  90.000000\nmean   41.655556      66.422045          23.04000   5.845470\nstd    16.024673      20.456198           9.44727   2.499475\nmin    18.000000      30.654969          12.00000   1.036433\n25%    28.250000      50.600849          12.00000   3.787877\n50%    39.500000      65.604954          24.00000   5.761262\n75%    56.000000      83.500612          36.00000   7.915482\nmax    69.000000      98.882957          36.00000   9.865291",
      "text/html": "<div>\n<style scoped>\n    .dataframe tbody tr th:only-of-type {\n        vertical-align: middle;\n    }\n\n    .dataframe tbody tr th {\n        vertical-align: top;\n    }\n\n    .dataframe thead th {\n        text-align: right;\n    }\n</style>\n<table border=\"1\" class=\"dataframe\">\n  <thead>\n    <tr style=\"text-align: right;\">\n      <th></th>\n      <th>Age</th>\n      <th>MonthlyCharge</th>\n      <th>ContractDuration</th>\n      <th>DataUsage</th>\n    </tr>\n  </thead>\n  <tbody>\n    <tr>\n      <th>count</th>\n      <td>90.000000</td>\n      <td>90.000000</td>\n      <td>100.00000</td>\n      <td>90.000000</td>\n    </tr>\n    <tr>\n      <th>mean</th>\n      <td>41.655556</td>\n      <td>66.422045</td>\n      <td>23.04000</td>\n      <td>5.845470</td>\n    </tr>\n    <tr>\n      <th>std</th>\n      <td>16.024673</td>\n      <td>20.456198</td>\n      <td>9.44727</td>\n      <td>2.499475</td>\n    </tr>\n    <tr>\n      <th>min</th>\n      <td>18.000000</td>\n      <td>30.654969</td>\n      <td>12.00000</td>\n      <td>1.036433</td>\n    </tr>\n    <tr>\n      <th>25%</th>\n      <td>28.250000</td>\n      <td>50.600849</td>\n      <td>12.00000</td>\n      <td>3.787877</td>\n    </tr>\n    <tr>\n      <th>50%</th>\n      <td>39.500000</td>\n      <td>65.604954</td>\n      <td>24.00000</td>\n      <td>5.761262</td>\n    </tr>\n    <tr>\n      <th>75%</th>\n      <td>56.000000</td>\n      <td>83.500612</td>\n      <td>36.00000</td>\n      <td>7.915482</td>\n    </tr>\n    <tr>\n      <th>max</th>\n      <td>69.000000</td>\n      <td>98.882957</td>\n      <td>36.00000</td>\n      <td>9.865291</td>\n    </tr>\n  </tbody>\n</table>\n</div>"
     },
     "execution_count": 9,
     "metadata": {},
     "output_type": "execute_result"
    }
   ],
   "source": [
    "churndata[[\"Age\", 'MonthlyCharge', 'ContractDuration', 'DataUsage']].describe()"
   ],
   "metadata": {
    "collapsed": false,
    "ExecuteTime": {
     "end_time": "2024-02-07T05:35:00.558060Z",
     "start_time": "2024-02-07T05:35:00.542848Z"
    }
   },
   "execution_count": 9
  },
  {
   "cell_type": "code",
   "outputs": [
    {
     "data": {
      "text/plain": "Age                  10\nMonthlyCharge        10\nContractDuration      0\nDataUsage            10\nInternationalPlan     0\nChurn                 0\ndtype: int64"
     },
     "execution_count": 10,
     "metadata": {},
     "output_type": "execute_result"
    }
   ],
   "source": [
    "churndata.isnull().sum()"
   ],
   "metadata": {
    "collapsed": false,
    "ExecuteTime": {
     "end_time": "2024-02-07T05:35:00.599040Z",
     "start_time": "2024-02-07T05:35:00.554954Z"
    }
   },
   "execution_count": 10
  },
  {
   "cell_type": "code",
   "outputs": [],
   "source": [
    "Age = SimpleImputer(strategy='mean')\n",
    "churndata['Age'] = Age.fit_transform(churndata[['Age']]) #Replace missing values with the mean"
   ],
   "metadata": {
    "collapsed": false,
    "ExecuteTime": {
     "end_time": "2024-02-07T05:35:00.599361Z",
     "start_time": "2024-02-07T05:35:00.568455Z"
    }
   },
   "execution_count": 11
  },
  {
   "cell_type": "code",
   "outputs": [],
   "source": [
    "MonthlyCharge = SimpleImputer(strategy='mean')\n",
    "churndata['MonthlyCharge'] = MonthlyCharge.fit_transform(churndata[['MonthlyCharge']]) #Replace missing values with the mean"
   ],
   "metadata": {
    "collapsed": false,
    "ExecuteTime": {
     "end_time": "2024-02-07T05:35:00.599675Z",
     "start_time": "2024-02-07T05:35:00.578328Z"
    }
   },
   "execution_count": 12
  },
  {
   "cell_type": "code",
   "outputs": [],
   "source": [
    "DataUsage = SimpleImputer(strategy='mean')\n",
    "churndata['DataUsage'] = DataUsage.fit_transform(churndata[['DataUsage']]) #Replace missing values with the mean"
   ],
   "metadata": {
    "collapsed": false,
    "ExecuteTime": {
     "end_time": "2024-02-07T05:35:00.600027Z",
     "start_time": "2024-02-07T05:35:00.584705Z"
    }
   },
   "execution_count": 13
  },
  {
   "cell_type": "code",
   "outputs": [
    {
     "data": {
      "text/plain": "Age                  0\nMonthlyCharge        0\nContractDuration     0\nDataUsage            0\nInternationalPlan    0\nChurn                0\ndtype: int64"
     },
     "execution_count": 14,
     "metadata": {},
     "output_type": "execute_result"
    }
   ],
   "source": [
    "churndata.isnull().sum()"
   ],
   "metadata": {
    "collapsed": false,
    "ExecuteTime": {
     "end_time": "2024-02-07T05:35:00.609972Z",
     "start_time": "2024-02-07T05:35:00.589933Z"
    }
   },
   "execution_count": 14
  },
  {
   "cell_type": "code",
   "outputs": [
    {
     "data": {
      "text/plain": "    Age  MonthlyCharge  ContractDuration  DataUsage  InternationalPlan  Churn\n0  62.0      53.660533                36   3.064977                  0      1\n1  65.0      77.232663                36   8.922678                  1      1\n2  18.0      52.204122                36   5.845470                  1      0\n3  21.0      66.422045                12   9.617058                  1      1\n4  21.0      96.469974                24   5.245764                  1      1",
      "text/html": "<div>\n<style scoped>\n    .dataframe tbody tr th:only-of-type {\n        vertical-align: middle;\n    }\n\n    .dataframe tbody tr th {\n        vertical-align: top;\n    }\n\n    .dataframe thead th {\n        text-align: right;\n    }\n</style>\n<table border=\"1\" class=\"dataframe\">\n  <thead>\n    <tr style=\"text-align: right;\">\n      <th></th>\n      <th>Age</th>\n      <th>MonthlyCharge</th>\n      <th>ContractDuration</th>\n      <th>DataUsage</th>\n      <th>InternationalPlan</th>\n      <th>Churn</th>\n    </tr>\n  </thead>\n  <tbody>\n    <tr>\n      <th>0</th>\n      <td>62.0</td>\n      <td>53.660533</td>\n      <td>36</td>\n      <td>3.064977</td>\n      <td>0</td>\n      <td>1</td>\n    </tr>\n    <tr>\n      <th>1</th>\n      <td>65.0</td>\n      <td>77.232663</td>\n      <td>36</td>\n      <td>8.922678</td>\n      <td>1</td>\n      <td>1</td>\n    </tr>\n    <tr>\n      <th>2</th>\n      <td>18.0</td>\n      <td>52.204122</td>\n      <td>36</td>\n      <td>5.845470</td>\n      <td>1</td>\n      <td>0</td>\n    </tr>\n    <tr>\n      <th>3</th>\n      <td>21.0</td>\n      <td>66.422045</td>\n      <td>12</td>\n      <td>9.617058</td>\n      <td>1</td>\n      <td>1</td>\n    </tr>\n    <tr>\n      <th>4</th>\n      <td>21.0</td>\n      <td>96.469974</td>\n      <td>24</td>\n      <td>5.245764</td>\n      <td>1</td>\n      <td>1</td>\n    </tr>\n  </tbody>\n</table>\n</div>"
     },
     "execution_count": 15,
     "metadata": {},
     "output_type": "execute_result"
    }
   ],
   "source": [
    "churndata.head()"
   ],
   "metadata": {
    "collapsed": false,
    "ExecuteTime": {
     "end_time": "2024-02-07T05:35:00.627551Z",
     "start_time": "2024-02-07T05:35:00.598103Z"
    }
   },
   "execution_count": 15
  },
  {
   "cell_type": "code",
   "outputs": [
    {
     "data": {
      "text/plain": "    Age  MonthlyCharge  DataUsage  ContractDuration  InternationalPlan\n0  62.0      53.660533   3.064977                36                  0\n1  65.0      77.232663   8.922678                36                  1\n2  18.0      52.204122   5.845470                36                  1\n3  21.0      66.422045   9.617058                12                  1\n4  21.0      96.469974   5.245764                24                  1",
      "text/html": "<div>\n<style scoped>\n    .dataframe tbody tr th:only-of-type {\n        vertical-align: middle;\n    }\n\n    .dataframe tbody tr th {\n        vertical-align: top;\n    }\n\n    .dataframe thead th {\n        text-align: right;\n    }\n</style>\n<table border=\"1\" class=\"dataframe\">\n  <thead>\n    <tr style=\"text-align: right;\">\n      <th></th>\n      <th>Age</th>\n      <th>MonthlyCharge</th>\n      <th>DataUsage</th>\n      <th>ContractDuration</th>\n      <th>InternationalPlan</th>\n    </tr>\n  </thead>\n  <tbody>\n    <tr>\n      <th>0</th>\n      <td>62.0</td>\n      <td>53.660533</td>\n      <td>3.064977</td>\n      <td>36</td>\n      <td>0</td>\n    </tr>\n    <tr>\n      <th>1</th>\n      <td>65.0</td>\n      <td>77.232663</td>\n      <td>8.922678</td>\n      <td>36</td>\n      <td>1</td>\n    </tr>\n    <tr>\n      <th>2</th>\n      <td>18.0</td>\n      <td>52.204122</td>\n      <td>5.845470</td>\n      <td>36</td>\n      <td>1</td>\n    </tr>\n    <tr>\n      <th>3</th>\n      <td>21.0</td>\n      <td>66.422045</td>\n      <td>9.617058</td>\n      <td>12</td>\n      <td>1</td>\n    </tr>\n    <tr>\n      <th>4</th>\n      <td>21.0</td>\n      <td>96.469974</td>\n      <td>5.245764</td>\n      <td>24</td>\n      <td>1</td>\n    </tr>\n  </tbody>\n</table>\n</div>"
     },
     "execution_count": 16,
     "metadata": {},
     "output_type": "execute_result"
    }
   ],
   "source": [
    "y = churndata.Churn\n",
    "x = churndata[['Age', 'MonthlyCharge', 'DataUsage', 'ContractDuration','InternationalPlan']]\n",
    "x.head()\n"
   ],
   "metadata": {
    "collapsed": false,
    "ExecuteTime": {
     "end_time": "2024-02-07T05:35:00.628821Z",
     "start_time": "2024-02-07T05:35:00.603457Z"
    }
   },
   "execution_count": 16
  },
  {
   "cell_type": "code",
   "outputs": [
    {
     "data": {
      "text/plain": "    Age  MonthlyCharge  ContractDuration  DataUsage  InternationalPlan\n0  62.0      53.660533                36   3.064977                  0\n1  65.0      77.232663                36   8.922678                  1\n2  18.0      52.204122                36   5.845470                  1\n3  21.0      66.422045                12   9.617058                  1\n4  21.0      96.469974                24   5.245764                  1",
      "text/html": "<div>\n<style scoped>\n    .dataframe tbody tr th:only-of-type {\n        vertical-align: middle;\n    }\n\n    .dataframe tbody tr th {\n        vertical-align: top;\n    }\n\n    .dataframe thead th {\n        text-align: right;\n    }\n</style>\n<table border=\"1\" class=\"dataframe\">\n  <thead>\n    <tr style=\"text-align: right;\">\n      <th></th>\n      <th>Age</th>\n      <th>MonthlyCharge</th>\n      <th>ContractDuration</th>\n      <th>DataUsage</th>\n      <th>InternationalPlan</th>\n    </tr>\n  </thead>\n  <tbody>\n    <tr>\n      <th>0</th>\n      <td>62.0</td>\n      <td>53.660533</td>\n      <td>36</td>\n      <td>3.064977</td>\n      <td>0</td>\n    </tr>\n    <tr>\n      <th>1</th>\n      <td>65.0</td>\n      <td>77.232663</td>\n      <td>36</td>\n      <td>8.922678</td>\n      <td>1</td>\n    </tr>\n    <tr>\n      <th>2</th>\n      <td>18.0</td>\n      <td>52.204122</td>\n      <td>36</td>\n      <td>5.845470</td>\n      <td>1</td>\n    </tr>\n    <tr>\n      <th>3</th>\n      <td>21.0</td>\n      <td>66.422045</td>\n      <td>12</td>\n      <td>9.617058</td>\n      <td>1</td>\n    </tr>\n    <tr>\n      <th>4</th>\n      <td>21.0</td>\n      <td>96.469974</td>\n      <td>24</td>\n      <td>5.245764</td>\n      <td>1</td>\n    </tr>\n  </tbody>\n</table>\n</div>"
     },
     "execution_count": 17,
     "metadata": {},
     "output_type": "execute_result"
    }
   ],
   "source": [
    "x = churndata.drop('Churn', axis=1) #Drop the Churn column, another way to create the x variables axis = 1 means column, axis = 0 means row\n",
    "y = churndata.Churn\n",
    "x.head()"
   ],
   "metadata": {
    "collapsed": false,
    "ExecuteTime": {
     "end_time": "2024-02-07T05:35:00.654471Z",
     "start_time": "2024-02-07T05:35:00.617812Z"
    }
   },
   "execution_count": 17
  },
  {
   "cell_type": "markdown",
   "source": [
    "Split the data into training and testing sets"
   ],
   "metadata": {
    "collapsed": false
   }
  },
  {
   "cell_type": "code",
   "outputs": [],
   "source": [
    "x_train, x_test, y_train, y_test = train_test_split(x, y, test_size=0.25, random_state=42) #Split the data into training and testing sets 0.25 means 25% of the data will be used for testing and random_state is the seed for the random number generator"
   ],
   "metadata": {
    "collapsed": false,
    "ExecuteTime": {
     "end_time": "2024-02-07T05:35:00.677826Z",
     "start_time": "2024-02-07T05:35:00.622012Z"
    }
   },
   "execution_count": 18
  },
  {
   "cell_type": "code",
   "outputs": [
    {
     "name": "stdout",
     "output_type": "stream",
     "text": [
      "LogisticRegression()\n",
      "Confusion Matrix:\n",
      " [[ 5  4]\n",
      " [11  5]]\n",
      "Accuracy Score:\n",
      " 0.4\n",
      "\n",
      "KNeighborsClassifier()\n",
      "Confusion Matrix:\n",
      " [[5 4]\n",
      " [7 9]]\n",
      "Accuracy Score:\n",
      " 0.56\n",
      "\n",
      "SVC()\n",
      "Confusion Matrix:\n",
      " [[ 9  0]\n",
      " [16  0]]\n",
      "Accuracy Score:\n",
      " 0.36\n"
     ]
    }
   ],
   "source": [
    "for model in [LogisticRegression(), KNeighborsClassifier(), SVC()]:\n",
    "    model.fit(x_train, y_train)\n",
    "    y_pred = model.predict(x_test)\n",
    "    print(model)\n",
    "    print(\"Confusion Matrix:\\n\", confusion_matrix(y_test, y_pred))\n",
    "    print(\"Accuracy Score:\\n\", accuracy_score(y_test,y_pred))\n",
    "    print()\n",
    "    "
   ],
   "metadata": {
    "collapsed": false,
    "ExecuteTime": {
     "end_time": "2024-02-07T05:35:31.829278Z",
     "start_time": "2024-02-07T05:35:31.781032Z"
    }
   },
   "execution_count": 21
  },
  {
   "cell_type": "code",
   "outputs": [],
   "source": [],
   "metadata": {
    "collapsed": false,
    "ExecuteTime": {
     "end_time": "2024-02-07T05:35:00.750598Z",
     "start_time": "2024-02-07T05:35:00.688092Z"
    }
   },
   "execution_count": 19
  },
  {
   "cell_type": "code",
   "outputs": [],
   "source": [],
   "metadata": {
    "collapsed": false,
    "ExecuteTime": {
     "end_time": "2024-02-07T05:35:00.750972Z",
     "start_time": "2024-02-07T05:35:00.691688Z"
    }
   },
   "execution_count": 19
  }
 ],
 "metadata": {
  "kernelspec": {
   "display_name": "Python 3",
   "language": "python",
   "name": "python3"
  },
  "language_info": {
   "codemirror_mode": {
    "name": "ipython",
    "version": 2
   },
   "file_extension": ".py",
   "mimetype": "text/x-python",
   "name": "python",
   "nbconvert_exporter": "python",
   "pygments_lexer": "ipython2",
   "version": "2.7.6"
  }
 },
 "nbformat": 4,
 "nbformat_minor": 0
}
