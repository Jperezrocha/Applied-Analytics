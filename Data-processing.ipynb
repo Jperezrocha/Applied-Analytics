{
 "cells": [
  {
   "cell_type": "code",
   "execution_count": 198,
   "metadata": {
    "collapsed": true,
    "ExecuteTime": {
     "end_time": "2024-02-06T17:17:59.048377Z",
     "start_time": "2024-02-06T17:17:58.960816Z"
    }
   },
   "outputs": [],
   "source": [
    "import pandas as pd\n",
    "import numpy as np\n",
    "import matplotlib as plt\n",
    "from sklearn.impute import SimpleImputer\n",
    "from sklearn.model_selection import train_test_split\n",
    "from sklearn.linear_model import LogisticRegression\n",
    "from sklearn.metrics import accuracy_score, confusion_matrix, classification_report\n",
    "from sklearn.neighbors import KNeighborsClassifier\n",
    "from sklearn.svm import SVC"
   ]
  },
  {
   "cell_type": "code",
   "execution_count": 199,
   "outputs": [
    {
     "name": "stdout",
     "output_type": "stream",
     "text": [
      "     Age  MonthlyCharge  ContractDuration  DataUsage  InternationalPlan  \\\n",
      "0   62.0      53.660533                36   3.064977                  0   \n",
      "1   65.0      77.232663                36   8.922678                  1   \n",
      "2   18.0      52.204122                36        NaN                  1   \n",
      "3   21.0            NaN                12   9.617058                  1   \n",
      "4   21.0      96.469974                24   5.245764                  1   \n",
      "..   ...            ...               ...        ...                ...   \n",
      "95  32.0      90.545331                12   5.391411                  1   \n",
      "96  33.0      58.797771                12   5.126631                  1   \n",
      "97  38.0      39.798081                12   5.721334                  1   \n",
      "98  53.0      32.325567                12   4.978138                  0   \n",
      "99  41.0      98.780247                24   8.673714                  0   \n",
      "\n",
      "    Churn (y)  \n",
      "0           1  \n",
      "1           1  \n",
      "2           0  \n",
      "3           1  \n",
      "4           1  \n",
      "..        ...  \n",
      "95          1  \n",
      "96          1  \n",
      "97          0  \n",
      "98          0  \n",
      "99          0  \n",
      "\n",
      "[100 rows x 6 columns]\n"
     ]
    }
   ],
   "source": [
    "churndata = pd.read_csv('/Users/jeronimoperezrocha/Library/Containers/com.microsoft.Excel/Data/Downloads/customer_churn_data.csv')\n",
    "print(churndata)"
   ],
   "metadata": {
    "collapsed": false,
    "ExecuteTime": {
     "end_time": "2024-02-06T17:17:59.071271Z",
     "start_time": "2024-02-06T17:17:59.054813Z"
    }
   }
  },
  {
   "cell_type": "code",
   "execution_count": 200,
   "outputs": [
    {
     "data": {
      "text/plain": "    Age  MonthlyCharge  ContractDuration  DataUsage  InternationalPlan  \\\n0  62.0      53.660533                36   3.064977                  0   \n1  65.0      77.232663                36   8.922678                  1   \n2  18.0      52.204122                36        NaN                  1   \n3  21.0            NaN                12   9.617058                  1   \n4  21.0      96.469974                24   5.245764                  1   \n\n   Churn (y)  \n0          1  \n1          1  \n2          0  \n3          1  \n4          1  ",
      "text/html": "<div>\n<style scoped>\n    .dataframe tbody tr th:only-of-type {\n        vertical-align: middle;\n    }\n\n    .dataframe tbody tr th {\n        vertical-align: top;\n    }\n\n    .dataframe thead th {\n        text-align: right;\n    }\n</style>\n<table border=\"1\" class=\"dataframe\">\n  <thead>\n    <tr style=\"text-align: right;\">\n      <th></th>\n      <th>Age</th>\n      <th>MonthlyCharge</th>\n      <th>ContractDuration</th>\n      <th>DataUsage</th>\n      <th>InternationalPlan</th>\n      <th>Churn (y)</th>\n    </tr>\n  </thead>\n  <tbody>\n    <tr>\n      <th>0</th>\n      <td>62.0</td>\n      <td>53.660533</td>\n      <td>36</td>\n      <td>3.064977</td>\n      <td>0</td>\n      <td>1</td>\n    </tr>\n    <tr>\n      <th>1</th>\n      <td>65.0</td>\n      <td>77.232663</td>\n      <td>36</td>\n      <td>8.922678</td>\n      <td>1</td>\n      <td>1</td>\n    </tr>\n    <tr>\n      <th>2</th>\n      <td>18.0</td>\n      <td>52.204122</td>\n      <td>36</td>\n      <td>NaN</td>\n      <td>1</td>\n      <td>0</td>\n    </tr>\n    <tr>\n      <th>3</th>\n      <td>21.0</td>\n      <td>NaN</td>\n      <td>12</td>\n      <td>9.617058</td>\n      <td>1</td>\n      <td>1</td>\n    </tr>\n    <tr>\n      <th>4</th>\n      <td>21.0</td>\n      <td>96.469974</td>\n      <td>24</td>\n      <td>5.245764</td>\n      <td>1</td>\n      <td>1</td>\n    </tr>\n  </tbody>\n</table>\n</div>"
     },
     "execution_count": 200,
     "metadata": {},
     "output_type": "execute_result"
    }
   ],
   "source": [
    "churndata.head() #First Five Rows"
   ],
   "metadata": {
    "collapsed": false,
    "ExecuteTime": {
     "end_time": "2024-02-06T17:17:59.092087Z",
     "start_time": "2024-02-06T17:17:59.076839Z"
    }
   }
  },
  {
   "cell_type": "code",
   "execution_count": 201,
   "outputs": [
    {
     "data": {
      "text/plain": "             Age  MonthlyCharge  ContractDuration  DataUsage  \\\ncount  90.000000      90.000000         100.00000  90.000000   \nmean   41.655556      66.422045          23.04000   5.845470   \nstd    16.024673      20.456198           9.44727   2.499475   \nmin    18.000000      30.654969          12.00000   1.036433   \n25%    28.250000      50.600849          12.00000   3.787877   \n50%    39.500000      65.604954          24.00000   5.761262   \n75%    56.000000      83.500612          36.00000   7.915482   \nmax    69.000000      98.882957          36.00000   9.865291   \n\n       InternationalPlan   Churn (y)  \ncount         100.000000  100.000000  \nmean            0.530000    0.500000  \nstd             0.501614    0.502519  \nmin             0.000000    0.000000  \n25%             0.000000    0.000000  \n50%             1.000000    0.500000  \n75%             1.000000    1.000000  \nmax             1.000000    1.000000  ",
      "text/html": "<div>\n<style scoped>\n    .dataframe tbody tr th:only-of-type {\n        vertical-align: middle;\n    }\n\n    .dataframe tbody tr th {\n        vertical-align: top;\n    }\n\n    .dataframe thead th {\n        text-align: right;\n    }\n</style>\n<table border=\"1\" class=\"dataframe\">\n  <thead>\n    <tr style=\"text-align: right;\">\n      <th></th>\n      <th>Age</th>\n      <th>MonthlyCharge</th>\n      <th>ContractDuration</th>\n      <th>DataUsage</th>\n      <th>InternationalPlan</th>\n      <th>Churn (y)</th>\n    </tr>\n  </thead>\n  <tbody>\n    <tr>\n      <th>count</th>\n      <td>90.000000</td>\n      <td>90.000000</td>\n      <td>100.00000</td>\n      <td>90.000000</td>\n      <td>100.000000</td>\n      <td>100.000000</td>\n    </tr>\n    <tr>\n      <th>mean</th>\n      <td>41.655556</td>\n      <td>66.422045</td>\n      <td>23.04000</td>\n      <td>5.845470</td>\n      <td>0.530000</td>\n      <td>0.500000</td>\n    </tr>\n    <tr>\n      <th>std</th>\n      <td>16.024673</td>\n      <td>20.456198</td>\n      <td>9.44727</td>\n      <td>2.499475</td>\n      <td>0.501614</td>\n      <td>0.502519</td>\n    </tr>\n    <tr>\n      <th>min</th>\n      <td>18.000000</td>\n      <td>30.654969</td>\n      <td>12.00000</td>\n      <td>1.036433</td>\n      <td>0.000000</td>\n      <td>0.000000</td>\n    </tr>\n    <tr>\n      <th>25%</th>\n      <td>28.250000</td>\n      <td>50.600849</td>\n      <td>12.00000</td>\n      <td>3.787877</td>\n      <td>0.000000</td>\n      <td>0.000000</td>\n    </tr>\n    <tr>\n      <th>50%</th>\n      <td>39.500000</td>\n      <td>65.604954</td>\n      <td>24.00000</td>\n      <td>5.761262</td>\n      <td>1.000000</td>\n      <td>0.500000</td>\n    </tr>\n    <tr>\n      <th>75%</th>\n      <td>56.000000</td>\n      <td>83.500612</td>\n      <td>36.00000</td>\n      <td>7.915482</td>\n      <td>1.000000</td>\n      <td>1.000000</td>\n    </tr>\n    <tr>\n      <th>max</th>\n      <td>69.000000</td>\n      <td>98.882957</td>\n      <td>36.00000</td>\n      <td>9.865291</td>\n      <td>1.000000</td>\n      <td>1.000000</td>\n    </tr>\n  </tbody>\n</table>\n</div>"
     },
     "execution_count": 201,
     "metadata": {},
     "output_type": "execute_result"
    }
   ],
   "source": [
    "churndata.describe() #Describe"
   ],
   "metadata": {
    "collapsed": false,
    "ExecuteTime": {
     "end_time": "2024-02-06T17:17:59.141709Z",
     "start_time": "2024-02-06T17:17:59.091793Z"
    }
   }
  },
  {
   "cell_type": "code",
   "execution_count": 202,
   "outputs": [
    {
     "name": "stdout",
     "output_type": "stream",
     "text": [
      "<class 'pandas.core.frame.DataFrame'>\n",
      "RangeIndex: 100 entries, 0 to 99\n",
      "Data columns (total 6 columns):\n",
      " #   Column             Non-Null Count  Dtype  \n",
      "---  ------             --------------  -----  \n",
      " 0   Age                90 non-null     float64\n",
      " 1   MonthlyCharge      90 non-null     float64\n",
      " 2   ContractDuration   100 non-null    int64  \n",
      " 3   DataUsage          90 non-null     float64\n",
      " 4   InternationalPlan  100 non-null    int64  \n",
      " 5   Churn (y)          100 non-null    int64  \n",
      "dtypes: float64(3), int64(3)\n",
      "memory usage: 4.8 KB\n"
     ]
    }
   ],
   "source": [
    "churndata.info()"
   ],
   "metadata": {
    "collapsed": false,
    "ExecuteTime": {
     "end_time": "2024-02-06T17:17:59.166819Z",
     "start_time": "2024-02-06T17:17:59.114916Z"
    }
   }
  },
  {
   "cell_type": "code",
   "execution_count": 203,
   "outputs": [
    {
     "data": {
      "text/plain": "<Axes: >"
     },
     "execution_count": 203,
     "metadata": {},
     "output_type": "execute_result"
    },
    {
     "data": {
      "text/plain": "<Figure size 640x480 with 1 Axes>",
      "image/png": "[encoded data removed]"
     },
     "metadata": {},
     "output_type": "display_data"
    }
   ],
   "source": [
    "churndata[\"Age\"].hist() #histogram x variable being Age"
   ],
   "metadata": {
    "collapsed": false,
    "ExecuteTime": {
     "end_time": "2024-02-06T17:17:59.321536Z",
     "start_time": "2024-02-06T17:17:59.146584Z"
    }
   }
  },
  {
   "cell_type": "code",
   "outputs": [
    {
     "name": "stdout",
     "output_type": "stream",
     "text": [
      "     Age  MonthlyCharge  ContractDuration  DataUsage  InternationalPlan  Churn\n",
      "0   62.0      53.660533                36   3.064977                  0      1\n",
      "1   65.0      77.232663                36   8.922678                  1      1\n",
      "2   18.0      52.204122                36        NaN                  1      0\n",
      "3   21.0            NaN                12   9.617058                  1      1\n",
      "4   21.0      96.469974                24   5.245764                  1      1\n",
      "..   ...            ...               ...        ...                ...    ...\n",
      "95  32.0      90.545331                12   5.391411                  1      1\n",
      "96  33.0      58.797771                12   5.126631                  1      1\n",
      "97  38.0      39.798081                12   5.721334                  1      0\n",
      "98  53.0      32.325567                12   4.978138                  0      0\n",
      "99  41.0      98.780247                24   8.673714                  0      0\n",
      "\n",
      "[100 rows x 6 columns]\n"
     ]
    }
   ],
   "source": [
    "#reanma colum churn \n",
    "churndata.rename(columns={'Churn (y)': 'Churn'}, inplace=True)\n",
    "print(churndata)"
   ],
   "metadata": {
    "collapsed": false,
    "ExecuteTime": {
     "end_time": "2024-02-06T17:17:59.371052Z",
     "start_time": "2024-02-06T17:17:59.290776Z"
    }
   },
   "execution_count": 204
  },
  {
   "cell_type": "code",
   "outputs": [
    {
     "data": {
      "text/plain": "             Age  MonthlyCharge  ContractDuration  DataUsage\ncount  90.000000      90.000000         100.00000  90.000000\nmean   41.655556      66.422045          23.04000   5.845470\nstd    16.024673      20.456198           9.44727   2.499475\nmin    18.000000      30.654969          12.00000   1.036433\n25%    28.250000      50.600849          12.00000   3.787877\n50%    39.500000      65.604954          24.00000   5.761262\n75%    56.000000      83.500612          36.00000   7.915482\nmax    69.000000      98.882957          36.00000   9.865291",
      "text/html": "<div>\n<style scoped>\n    .dataframe tbody tr th:only-of-type {\n        vertical-align: middle;\n    }\n\n    .dataframe tbody tr th {\n        vertical-align: top;\n    }\n\n    .dataframe thead th {\n        text-align: right;\n    }\n</style>\n<table border=\"1\" class=\"dataframe\">\n  <thead>\n    <tr style=\"text-align: right;\">\n      <th></th>\n      <th>Age</th>\n      <th>MonthlyCharge</th>\n      <th>ContractDuration</th>\n      <th>DataUsage</th>\n    </tr>\n  </thead>\n  <tbody>\n    <tr>\n      <th>count</th>\n      <td>90.000000</td>\n      <td>90.000000</td>\n      <td>100.00000</td>\n      <td>90.000000</td>\n    </tr>\n    <tr>\n      <th>mean</th>\n      <td>41.655556</td>\n      <td>66.422045</td>\n      <td>23.04000</td>\n      <td>5.845470</td>\n    </tr>\n    <tr>\n      <th>std</th>\n      <td>16.024673</td>\n      <td>20.456198</td>\n      <td>9.44727</td>\n      <td>2.499475</td>\n    </tr>\n    <tr>\n      <th>min</th>\n      <td>18.000000</td>\n      <td>30.654969</td>\n      <td>12.00000</td>\n      <td>1.036433</td>\n    </tr>\n    <tr>\n      <th>25%</th>\n      <td>28.250000</td>\n      <td>50.600849</td>\n      <td>12.00000</td>\n      <td>3.787877</td>\n    </tr>\n    <tr>\n      <th>50%</th>\n      <td>39.500000</td>\n      <td>65.604954</td>\n      <td>24.00000</td>\n      <td>5.761262</td>\n    </tr>\n    <tr>\n      <th>75%</th>\n      <td>56.000000</td>\n      <td>83.500612</td>\n      <td>36.00000</td>\n      <td>7.915482</td>\n    </tr>\n    <tr>\n      <th>max</th>\n      <td>69.000000</td>\n      <td>98.882957</td>\n      <td>36.00000</td>\n      <td>9.865291</td>\n    </tr>\n  </tbody>\n</table>\n</div>"
     },
     "execution_count": 205,
     "metadata": {},
     "output_type": "execute_result"
    }
   ],
   "source": [
    "churndata[[\"Age\", 'MonthlyCharge', 'ContractDuration', 'DataUsage']].describe()"
   ],
   "metadata": {
    "collapsed": false,
    "ExecuteTime": {
     "end_time": "2024-02-06T17:17:59.393918Z",
     "start_time": "2024-02-06T17:17:59.298606Z"
    }
   },
   "execution_count": 205
  },
  {
   "cell_type": "code",
   "outputs": [
    {
     "data": {
      "text/plain": "Age                  10\nMonthlyCharge        10\nContractDuration      0\nDataUsage            10\nInternationalPlan     0\nChurn                 0\ndtype: int64"
     },
     "execution_count": 206,
     "metadata": {},
     "output_type": "execute_result"
    }
   ],
   "source": [
    "churndata.isnull().sum()"
   ],
   "metadata": {
    "collapsed": false,
    "ExecuteTime": {
     "end_time": "2024-02-06T17:17:59.396997Z",
     "start_time": "2024-02-06T17:17:59.316526Z"
    }
   },
   "execution_count": 206
  },
  {
   "cell_type": "code",
   "outputs": [],
   "source": [
    "Age = SimpleImputer(strategy='mean')\n",
    "churndata['Age'] = Age.fit_transform(churndata[['Age']]) #Replace missing values with the mean"
   ],
   "metadata": {
    "collapsed": false,
    "ExecuteTime": {
     "end_time": "2024-02-06T17:17:59.405870Z",
     "start_time": "2024-02-06T17:17:59.327030Z"
    }
   },
   "execution_count": 207
  },
  {
   "cell_type": "code",
   "outputs": [],
   "source": [
    "MonthlyCharge = SimpleImputer(strategy='mean')\n",
    "churndata['MonthlyCharge'] = MonthlyCharge.fit_transform(churndata[['MonthlyCharge']]) #Replace missing values with the mean"
   ],
   "metadata": {
    "collapsed": false,
    "ExecuteTime": {
     "end_time": "2024-02-06T17:17:59.406630Z",
     "start_time": "2024-02-06T17:17:59.334063Z"
    }
   },
   "execution_count": 208
  },
  {
   "cell_type": "code",
   "outputs": [],
   "source": [
    "DataUsage = SimpleImputer(strategy='mean')\n",
    "churndata['DataUsage'] = DataUsage.fit_transform(churndata[['DataUsage']]) #Replace missing values with the mean"
   ],
   "metadata": {
    "collapsed": false,
    "ExecuteTime": {
     "end_time": "2024-02-06T17:17:59.407485Z",
     "start_time": "2024-02-06T17:17:59.340754Z"
    }
   },
   "execution_count": 209
  },
  {
   "cell_type": "code",
   "outputs": [
    {
     "data": {
      "text/plain": "Age                  0\nMonthlyCharge        0\nContractDuration     0\nDataUsage            0\nInternationalPlan    0\nChurn                0\ndtype: int64"
     },
     "execution_count": 210,
     "metadata": {},
     "output_type": "execute_result"
    }
   ],
   "source": [
    "churndata.isnull().sum()"
   ],
   "metadata": {
    "collapsed": false,
    "ExecuteTime": {
     "end_time": "2024-02-06T17:17:59.449049Z",
     "start_time": "2024-02-06T17:17:59.403017Z"
    }
   },
   "execution_count": 210
  },
  {
   "cell_type": "code",
   "outputs": [
    {
     "data": {
      "text/plain": "    Age  MonthlyCharge  ContractDuration  DataUsage  InternationalPlan  Churn\n0  62.0      53.660533                36   3.064977                  0      1\n1  65.0      77.232663                36   8.922678                  1      1\n2  18.0      52.204122                36   5.845470                  1      0\n3  21.0      66.422045                12   9.617058                  1      1\n4  21.0      96.469974                24   5.245764                  1      1",
      "text/html": "<div>\n<style scoped>\n    .dataframe tbody tr th:only-of-type {\n        vertical-align: middle;\n    }\n\n    .dataframe tbody tr th {\n        vertical-align: top;\n    }\n\n    .dataframe thead th {\n        text-align: right;\n    }\n</style>\n<table border=\"1\" class=\"dataframe\">\n  <thead>\n    <tr style=\"text-align: right;\">\n      <th></th>\n      <th>Age</th>\n      <th>MonthlyCharge</th>\n      <th>ContractDuration</th>\n      <th>DataUsage</th>\n      <th>InternationalPlan</th>\n      <th>Churn</th>\n    </tr>\n  </thead>\n  <tbody>\n    <tr>\n      <th>0</th>\n      <td>62.0</td>\n      <td>53.660533</td>\n      <td>36</td>\n      <td>3.064977</td>\n      <td>0</td>\n      <td>1</td>\n    </tr>\n    <tr>\n      <th>1</th>\n      <td>65.0</td>\n      <td>77.232663</td>\n      <td>36</td>\n      <td>8.922678</td>\n      <td>1</td>\n      <td>1</td>\n    </tr>\n    <tr>\n      <th>2</th>\n      <td>18.0</td>\n      <td>52.204122</td>\n      <td>36</td>\n      <td>5.845470</td>\n      <td>1</td>\n      <td>0</td>\n    </tr>\n    <tr>\n      <th>3</th>\n      <td>21.0</td>\n      <td>66.422045</td>\n      <td>12</td>\n      <td>9.617058</td>\n      <td>1</td>\n      <td>1</td>\n    </tr>\n    <tr>\n      <th>4</th>\n      <td>21.0</td>\n      <td>96.469974</td>\n      <td>24</td>\n      <td>5.245764</td>\n      <td>1</td>\n      <td>1</td>\n    </tr>\n  </tbody>\n</table>\n</div>"
     },
     "execution_count": 211,
     "metadata": {},
     "output_type": "execute_result"
    }
   ],
   "source": [
    "churndata.head()"
   ],
   "metadata": {
    "collapsed": false,
    "ExecuteTime": {
     "end_time": "2024-02-06T17:17:59.460604Z",
     "start_time": "2024-02-06T17:17:59.441875Z"
    }
   },
   "execution_count": 211
  },
  {
   "cell_type": "code",
   "outputs": [
    {
     "data": {
      "text/plain": "    Age  MonthlyCharge  DataUsage  ContractDuration  InternationalPlan\n0  62.0      53.660533   3.064977                36                  0\n1  65.0      77.232663   8.922678                36                  1\n2  18.0      52.204122   5.845470                36                  1\n3  21.0      66.422045   9.617058                12                  1\n4  21.0      96.469974   5.245764                24                  1",
      "text/html": "<div>\n<style scoped>\n    .dataframe tbody tr th:only-of-type {\n        vertical-align: middle;\n    }\n\n    .dataframe tbody tr th {\n        vertical-align: top;\n    }\n\n    .dataframe thead th {\n        text-align: right;\n    }\n</style>\n<table border=\"1\" class=\"dataframe\">\n  <thead>\n    <tr style=\"text-align: right;\">\n      <th></th>\n      <th>Age</th>\n      <th>MonthlyCharge</th>\n      <th>DataUsage</th>\n      <th>ContractDuration</th>\n      <th>InternationalPlan</th>\n    </tr>\n  </thead>\n  <tbody>\n    <tr>\n      <th>0</th>\n      <td>62.0</td>\n      <td>53.660533</td>\n      <td>3.064977</td>\n      <td>36</td>\n      <td>0</td>\n    </tr>\n    <tr>\n      <th>1</th>\n      <td>65.0</td>\n      <td>77.232663</td>\n      <td>8.922678</td>\n      <td>36</td>\n      <td>1</td>\n    </tr>\n    <tr>\n      <th>2</th>\n      <td>18.0</td>\n      <td>52.204122</td>\n      <td>5.845470</td>\n      <td>36</td>\n      <td>1</td>\n    </tr>\n    <tr>\n      <th>3</th>\n      <td>21.0</td>\n      <td>66.422045</td>\n      <td>9.617058</td>\n      <td>12</td>\n      <td>1</td>\n    </tr>\n    <tr>\n      <th>4</th>\n      <td>21.0</td>\n      <td>96.469974</td>\n      <td>5.245764</td>\n      <td>24</td>\n      <td>1</td>\n    </tr>\n  </tbody>\n</table>\n</div>"
     },
     "execution_count": 212,
     "metadata": {},
     "output_type": "execute_result"
    }
   ],
   "source": [
    "y = churndata.Churn\n",
    "x = churndata[['Age', 'MonthlyCharge', 'DataUsage', 'ContractDuration','InternationalPlan']]\n",
    "x.head()\n"
   ],
   "metadata": {
    "collapsed": false,
    "ExecuteTime": {
     "end_time": "2024-02-06T17:17:59.522592Z",
     "start_time": "2024-02-06T17:17:59.468227Z"
    }
   },
   "execution_count": 212
  },
  {
   "cell_type": "code",
   "outputs": [
    {
     "data": {
      "text/plain": "    Age  MonthlyCharge  ContractDuration  DataUsage  InternationalPlan\n0  62.0      53.660533                36   3.064977                  0\n1  65.0      77.232663                36   8.922678                  1\n2  18.0      52.204122                36   5.845470                  1\n3  21.0      66.422045                12   9.617058                  1\n4  21.0      96.469974                24   5.245764                  1",
      "text/html": "<div>\n<style scoped>\n    .dataframe tbody tr th:only-of-type {\n        vertical-align: middle;\n    }\n\n    .dataframe tbody tr th {\n        vertical-align: top;\n    }\n\n    .dataframe thead th {\n        text-align: right;\n    }\n</style>\n<table border=\"1\" class=\"dataframe\">\n  <thead>\n    <tr style=\"text-align: right;\">\n      <th></th>\n      <th>Age</th>\n      <th>MonthlyCharge</th>\n      <th>ContractDuration</th>\n      <th>DataUsage</th>\n      <th>InternationalPlan</th>\n    </tr>\n  </thead>\n  <tbody>\n    <tr>\n      <th>0</th>\n      <td>62.0</td>\n      <td>53.660533</td>\n      <td>36</td>\n      <td>3.064977</td>\n      <td>0</td>\n    </tr>\n    <tr>\n      <th>1</th>\n      <td>65.0</td>\n      <td>77.232663</td>\n      <td>36</td>\n      <td>8.922678</td>\n      <td>1</td>\n    </tr>\n    <tr>\n      <th>2</th>\n      <td>18.0</td>\n      <td>52.204122</td>\n      <td>36</td>\n      <td>5.845470</td>\n      <td>1</td>\n    </tr>\n    <tr>\n      <th>3</th>\n      <td>21.0</td>\n      <td>66.422045</td>\n      <td>12</td>\n      <td>9.617058</td>\n      <td>1</td>\n    </tr>\n    <tr>\n      <th>4</th>\n      <td>21.0</td>\n      <td>96.469974</td>\n      <td>24</td>\n      <td>5.245764</td>\n      <td>1</td>\n    </tr>\n  </tbody>\n</table>\n</div>"
     },
     "execution_count": 213,
     "metadata": {},
     "output_type": "execute_result"
    }
   ],
   "source": [
    "x = churndata.drop('Churn', axis=1) #Drop the Churn column, another way to create the x variables axis = 1 means column, axis = 0 means row\n",
    "y = churndata.Churn\n",
    "x.head()"
   ],
   "metadata": {
    "collapsed": false,
    "ExecuteTime": {
     "end_time": "2024-02-06T17:17:59.562099Z",
     "start_time": "2024-02-06T17:17:59.513599Z"
    }
   },
   "execution_count": 213
  },
  {
   "cell_type": "markdown",
   "source": [
    "Split the data into training and testing sets"
   ],
   "metadata": {
    "collapsed": false
   }
  },
  {
   "cell_type": "code",
   "outputs": [],
   "source": [
    "x_train, x_test, y_train, y_test = train_test_split(x, y, test_size=0.25, random_state=42) #Split the data into training and testing sets 0.25 means 25% of the data will be used for testing and random_state is the seed for the random number generator"
   ],
   "metadata": {
    "collapsed": false,
    "ExecuteTime": {
     "end_time": "2024-02-06T17:17:59.573138Z",
     "start_time": "2024-02-06T17:17:59.552266Z"
    }
   },
   "execution_count": 214
  },
  {
   "cell_type": "markdown",
   "source": [
    "Applying Logistic Regression"
   ],
   "metadata": {
    "collapsed": false
   }
  },
  {
   "cell_type": "code",
   "outputs": [
    {
     "data": {
      "text/plain": "LogisticRegression()",
      "text/html": "<style>#sk-container-id-9 {color: black;}#sk-container-id-9 pre{padding: 0;}#sk-container-id-9 div.sk-toggleable {background-color: white;}#sk-container-id-9 label.sk-toggleable__label {cursor: pointer;display: block;width: 100%;margin-bottom: 0;padding: 0.3em;box-sizing: border-box;text-align: center;}#sk-container-id-9 label.sk-toggleable__label-arrow:before {content: \"▸\";float: left;margin-right: 0.25em;color: #696969;}#sk-container-id-9 label.sk-toggleable__label-arrow:hover:before {color: black;}#sk-container-id-9 div.sk-estimator:hover label.sk-toggleable__label-arrow:before {color: black;}#sk-container-id-9 div.sk-toggleable__content {max-height: 0;max-width: 0;overflow: hidden;text-align: left;background-color: #f0f8ff;}#sk-container-id-9 div.sk-toggleable__content pre {margin: 0.2em;color: black;border-radius: 0.25em;background-color: #f0f8ff;}#sk-container-id-9 input.sk-toggleable__control:checked~div.sk-toggleable__content {max-height: 200px;max-width: 100%;overflow: auto;}#sk-container-id-9 input.sk-toggleable__control:checked~label.sk-toggleable__label-arrow:before {content: \"▾\";}#sk-container-id-9 div.sk-estimator input.sk-toggleable__control:checked~label.sk-toggleable__label {background-color: #d4ebff;}#sk-container-id-9 div.sk-label input.sk-toggleable__control:checked~label.sk-toggleable__label {background-color: #d4ebff;}#sk-container-id-9 input.sk-hidden--visually {border: 0;clip: rect(1px 1px 1px 1px);clip: rect(1px, 1px, 1px, 1px);height: 1px;margin: -1px;overflow: hidden;padding: 0;position: absolute;width: 1px;}#sk-container-id-9 div.sk-estimator {font-family: monospace;background-color: #f0f8ff;border: 1px dotted black;border-radius: 0.25em;box-sizing: border-box;margin-bottom: 0.5em;}#sk-container-id-9 div.sk-estimator:hover {background-color: #d4ebff;}#sk-container-id-9 div.sk-parallel-item::after {content: \"\";width: 100%;border-bottom: 1px solid gray;flex-grow: 1;}#sk-container-id-9 div.sk-label:hover label.sk-toggleable__label {background-color: #d4ebff;}#sk-container-id-9 div.sk-serial::before {content: \"\";position: absolute;border-left: 1px solid gray;box-sizing: border-box;top: 0;bottom: 0;left: 50%;z-index: 0;}#sk-container-id-9 div.sk-serial {display: flex;flex-direction: column;align-items: center;background-color: white;padding-right: 0.2em;padding-left: 0.2em;position: relative;}#sk-container-id-9 div.sk-item {position: relative;z-index: 1;}#sk-container-id-9 div.sk-parallel {display: flex;align-items: stretch;justify-content: center;background-color: white;position: relative;}#sk-container-id-9 div.sk-item::before, #sk-container-id-9 div.sk-parallel-item::before {content: \"\";position: absolute;border-left: 1px solid gray;box-sizing: border-box;top: 0;bottom: 0;left: 50%;z-index: -1;}#sk-container-id-9 div.sk-parallel-item {display: flex;flex-direction: column;z-index: 1;position: relative;background-color: white;}#sk-container-id-9 div.sk-parallel-item:first-child::after {align-self: flex-end;width: 50%;}#sk-container-id-9 div.sk-parallel-item:last-child::after {align-self: flex-start;width: 50%;}#sk-container-id-9 div.sk-parallel-item:only-child::after {width: 0;}#sk-container-id-9 div.sk-dashed-wrapped {border: 1px dashed gray;margin: 0 0.4em 0.5em 0.4em;box-sizing: border-box;padding-bottom: 0.4em;background-color: white;}#sk-container-id-9 div.sk-label label {font-family: monospace;font-weight: bold;display: inline-block;line-height: 1.2em;}#sk-container-id-9 div.sk-label-container {text-align: center;}#sk-container-id-9 div.sk-container {/* jupyter's `normalize.less` sets `[hidden] { display: none; }` but bootstrap.min.css set `[hidden] { display: none !important; }` so we also need the `!important` here to be able to override the default hidden behavior on the sphinx rendered scikit-learn.org. See: https://github.com/scikit-learn/scikit-learn/issues/21755 */display: inline-block !important;position: relative;}#sk-container-id-9 div.sk-text-repr-fallback {display: none;}</style><div id=\"sk-container-id-9\" class=\"sk-top-container\"><div class=\"sk-text-repr-fallback\"><pre>LogisticRegression()</pre><b>In a Jupyter environment, please rerun this cell to show the HTML representation or trust the notebook. <br />On GitHub, the HTML representation is unable to render, please try loading this page with nbviewer.org.</b></div><div class=\"sk-container\" hidden><div class=\"sk-item\"><div class=\"sk-estimator sk-toggleable\"><input class=\"sk-toggleable__control sk-hidden--visually\" id=\"sk-estimator-id-9\" type=\"checkbox\" checked><label for=\"sk-estimator-id-9\" class=\"sk-toggleable__label sk-toggleable__label-arrow\">LogisticRegression</label><div class=\"sk-toggleable__content\"><pre>LogisticRegression()</pre></div></div></div></div></div>"
     },
     "execution_count": 215,
     "metadata": {},
     "output_type": "execute_result"
    }
   ],
   "source": [
    "#make a fit Logistic Regressio on x_train and y_train\n",
    "\n",
    "model = LogisticRegression()\n",
    "model.fit(x_train, y_train) "
   ],
   "metadata": {
    "collapsed": false,
    "ExecuteTime": {
     "end_time": "2024-02-06T17:17:59.648180Z",
     "start_time": "2024-02-06T17:17:59.580670Z"
    }
   },
   "execution_count": 215
  },
  {
   "cell_type": "code",
   "outputs": [],
   "source": [
    "#preict based on the model\n",
    "y_pred = model.predict(x_test)"
   ],
   "metadata": {
    "collapsed": false,
    "ExecuteTime": {
     "end_time": "2024-02-06T17:17:59.660324Z",
     "start_time": "2024-02-06T17:17:59.620063Z"
    }
   },
   "execution_count": 216
  },
  {
   "cell_type": "code",
   "outputs": [
    {
     "data": {
      "text/plain": "array([0, 0, 0, 1, 0, 1, 0, 0, 0, 1, 1, 1, 1, 0, 0, 0, 1, 0, 0, 0, 1, 1,\n       0, 0, 0])"
     },
     "execution_count": 217,
     "metadata": {},
     "output_type": "execute_result"
    }
   ],
   "source": [
    "y_pred #explain"
   ],
   "metadata": {
    "collapsed": false,
    "ExecuteTime": {
     "end_time": "2024-02-06T17:17:59.730362Z",
     "start_time": "2024-02-06T17:17:59.664925Z"
    }
   },
   "execution_count": 217
  },
  {
   "cell_type": "markdown",
   "source": [
    "Model Evaluation"
   ],
   "metadata": {
    "collapsed": false
   }
  },
  {
   "cell_type": "code",
   "outputs": [
    {
     "name": "stdout",
     "output_type": "stream",
     "text": [
      "Confusion Matrix:\n",
      " [[ 5  4]\n",
      " [11  5]]\n"
     ]
    }
   ],
   "source": [
    "#Accuracy\n",
    "print(\"Confusion Matrix:\\n\", confusion_matrix(y_test, y_pred)) "
   ],
   "metadata": {
    "collapsed": false,
    "ExecuteTime": {
     "end_time": "2024-02-06T17:17:59.746918Z",
     "start_time": "2024-02-06T17:17:59.727301Z"
    }
   },
   "execution_count": 218
  },
  {
   "cell_type": "markdown",
   "source": [
    "**Applying kNN**"
   ],
   "metadata": {
    "collapsed": false
   }
  },
  {
   "cell_type": "code",
   "outputs": [],
   "source": [
    "x_train, x_test, y_train, y_test = train_test_split(x, y, test_size=0.25, random_state=42) "
   ],
   "metadata": {
    "collapsed": false,
    "ExecuteTime": {
     "end_time": "2024-02-06T17:17:59.755703Z",
     "start_time": "2024-02-06T17:17:59.751106Z"
    }
   },
   "execution_count": 219
  },
  {
   "cell_type": "code",
   "outputs": [
    {
     "data": {
      "text/plain": "KNeighborsClassifier()",
      "text/html": "<style>#sk-container-id-10 {color: black;}#sk-container-id-10 pre{padding: 0;}#sk-container-id-10 div.sk-toggleable {background-color: white;}#sk-container-id-10 label.sk-toggleable__label {cursor: pointer;display: block;width: 100%;margin-bottom: 0;padding: 0.3em;box-sizing: border-box;text-align: center;}#sk-container-id-10 label.sk-toggleable__label-arrow:before {content: \"▸\";float: left;margin-right: 0.25em;color: #696969;}#sk-container-id-10 label.sk-toggleable__label-arrow:hover:before {color: black;}#sk-container-id-10 div.sk-estimator:hover label.sk-toggleable__label-arrow:before {color: black;}#sk-container-id-10 div.sk-toggleable__content {max-height: 0;max-width: 0;overflow: hidden;text-align: left;background-color: #f0f8ff;}#sk-container-id-10 div.sk-toggleable__content pre {margin: 0.2em;color: black;border-radius: 0.25em;background-color: #f0f8ff;}#sk-container-id-10 input.sk-toggleable__control:checked~div.sk-toggleable__content {max-height: 200px;max-width: 100%;overflow: auto;}#sk-container-id-10 input.sk-toggleable__control:checked~label.sk-toggleable__label-arrow:before {content: \"▾\";}#sk-container-id-10 div.sk-estimator input.sk-toggleable__control:checked~label.sk-toggleable__label {background-color: #d4ebff;}#sk-container-id-10 div.sk-label input.sk-toggleable__control:checked~label.sk-toggleable__label {background-color: #d4ebff;}#sk-container-id-10 input.sk-hidden--visually {border: 0;clip: rect(1px 1px 1px 1px);clip: rect(1px, 1px, 1px, 1px);height: 1px;margin: -1px;overflow: hidden;padding: 0;position: absolute;width: 1px;}#sk-container-id-10 div.sk-estimator {font-family: monospace;background-color: #f0f8ff;border: 1px dotted black;border-radius: 0.25em;box-sizing: border-box;margin-bottom: 0.5em;}#sk-container-id-10 div.sk-estimator:hover {background-color: #d4ebff;}#sk-container-id-10 div.sk-parallel-item::after {content: \"\";width: 100%;border-bottom: 1px solid gray;flex-grow: 1;}#sk-container-id-10 div.sk-label:hover label.sk-toggleable__label {background-color: #d4ebff;}#sk-container-id-10 div.sk-serial::before {content: \"\";position: absolute;border-left: 1px solid gray;box-sizing: border-box;top: 0;bottom: 0;left: 50%;z-index: 0;}#sk-container-id-10 div.sk-serial {display: flex;flex-direction: column;align-items: center;background-color: white;padding-right: 0.2em;padding-left: 0.2em;position: relative;}#sk-container-id-10 div.sk-item {position: relative;z-index: 1;}#sk-container-id-10 div.sk-parallel {display: flex;align-items: stretch;justify-content: center;background-color: white;position: relative;}#sk-container-id-10 div.sk-item::before, #sk-container-id-10 div.sk-parallel-item::before {content: \"\";position: absolute;border-left: 1px solid gray;box-sizing: border-box;top: 0;bottom: 0;left: 50%;z-index: -1;}#sk-container-id-10 div.sk-parallel-item {display: flex;flex-direction: column;z-index: 1;position: relative;background-color: white;}#sk-container-id-10 div.sk-parallel-item:first-child::after {align-self: flex-end;width: 50%;}#sk-container-id-10 div.sk-parallel-item:last-child::after {align-self: flex-start;width: 50%;}#sk-container-id-10 div.sk-parallel-item:only-child::after {width: 0;}#sk-container-id-10 div.sk-dashed-wrapped {border: 1px dashed gray;margin: 0 0.4em 0.5em 0.4em;box-sizing: border-box;padding-bottom: 0.4em;background-color: white;}#sk-container-id-10 div.sk-label label {font-family: monospace;font-weight: bold;display: inline-block;line-height: 1.2em;}#sk-container-id-10 div.sk-label-container {text-align: center;}#sk-container-id-10 div.sk-container {/* jupyter's `normalize.less` sets `[hidden] { display: none; }` but bootstrap.min.css set `[hidden] { display: none !important; }` so we also need the `!important` here to be able to override the default hidden behavior on the sphinx rendered scikit-learn.org. See: https://github.com/scikit-learn/scikit-learn/issues/21755 */display: inline-block !important;position: relative;}#sk-container-id-10 div.sk-text-repr-fallback {display: none;}</style><div id=\"sk-container-id-10\" class=\"sk-top-container\"><div class=\"sk-text-repr-fallback\"><pre>KNeighborsClassifier()</pre><b>In a Jupyter environment, please rerun this cell to show the HTML representation or trust the notebook. <br />On GitHub, the HTML representation is unable to render, please try loading this page with nbviewer.org.</b></div><div class=\"sk-container\" hidden><div class=\"sk-item\"><div class=\"sk-estimator sk-toggleable\"><input class=\"sk-toggleable__control sk-hidden--visually\" id=\"sk-estimator-id-10\" type=\"checkbox\" checked><label for=\"sk-estimator-id-10\" class=\"sk-toggleable__label sk-toggleable__label-arrow\">KNeighborsClassifier</label><div class=\"sk-toggleable__content\"><pre>KNeighborsClassifier()</pre></div></div></div></div></div>"
     },
     "execution_count": 220,
     "metadata": {},
     "output_type": "execute_result"
    }
   ],
   "source": [
    "model = KNeighborsClassifier()\n",
    "model.fit(x_train, y_train)"
   ],
   "metadata": {
    "collapsed": false,
    "ExecuteTime": {
     "end_time": "2024-02-06T17:17:59.772956Z",
     "start_time": "2024-02-06T17:17:59.754941Z"
    }
   },
   "execution_count": 220
  },
  {
   "cell_type": "code",
   "outputs": [],
   "source": [
    "y_pred = model.predict(x_test)"
   ],
   "metadata": {
    "collapsed": false,
    "ExecuteTime": {
     "end_time": "2024-02-06T17:17:59.794006Z",
     "start_time": "2024-02-06T17:17:59.768296Z"
    }
   },
   "execution_count": 221
  },
  {
   "cell_type": "code",
   "outputs": [
    {
     "data": {
      "text/plain": "array([1, 0, 0, 1, 1, 0, 1, 1, 0, 0, 1, 1, 1, 0, 1, 0, 1, 0, 1, 1, 1, 0,\n       0, 0, 0])"
     },
     "execution_count": 222,
     "metadata": {},
     "output_type": "execute_result"
    }
   ],
   "source": [
    "y_pred"
   ],
   "metadata": {
    "collapsed": false,
    "ExecuteTime": {
     "end_time": "2024-02-06T17:17:59.809750Z",
     "start_time": "2024-02-06T17:17:59.777661Z"
    }
   },
   "execution_count": 222
  },
  {
   "cell_type": "code",
   "outputs": [
    {
     "name": "stdout",
     "output_type": "stream",
     "text": [
      "Confusion Matrix:\n",
      " [[5 4]\n",
      " [7 9]]\n"
     ]
    }
   ],
   "source": [
    "print(\"Confusion Matrix:\\n\", confusion_matrix(y_test, y_pred))"
   ],
   "metadata": {
    "collapsed": false,
    "ExecuteTime": {
     "end_time": "2024-02-06T17:17:59.826829Z",
     "start_time": "2024-02-06T17:17:59.798700Z"
    }
   },
   "execution_count": 223
  },
  {
   "cell_type": "markdown",
   "source": [
    "**Applaying SVM**"
   ],
   "metadata": {
    "collapsed": false
   }
  },
  {
   "cell_type": "code",
   "outputs": [],
   "source": [
    "x_train, x_test, y_train, y_test = train_test_split(x, y, test_size=0.25, random_state=42) "
   ],
   "metadata": {
    "collapsed": false,
    "ExecuteTime": {
     "end_time": "2024-02-06T17:17:59.845478Z",
     "start_time": "2024-02-06T17:17:59.817939Z"
    }
   },
   "execution_count": 224
  },
  {
   "cell_type": "code",
   "outputs": [
    {
     "data": {
      "text/plain": "SVC()",
      "text/html": "<style>#sk-container-id-12 {color: black;}#sk-container-id-12 pre{padding: 0;}#sk-container-id-12 div.sk-toggleable {background-color: white;}#sk-container-id-12 label.sk-toggleable__label {cursor: pointer;display: block;width: 100%;margin-bottom: 0;padding: 0.3em;box-sizing: border-box;text-align: center;}#sk-container-id-12 label.sk-toggleable__label-arrow:before {content: \"▸\";float: left;margin-right: 0.25em;color: #696969;}#sk-container-id-12 label.sk-toggleable__label-arrow:hover:before {color: black;}#sk-container-id-12 div.sk-estimator:hover label.sk-toggleable__label-arrow:before {color: black;}#sk-container-id-12 div.sk-toggleable__content {max-height: 0;max-width: 0;overflow: hidden;text-align: left;background-color: #f0f8ff;}#sk-container-id-12 div.sk-toggleable__content pre {margin: 0.2em;color: black;border-radius: 0.25em;background-color: #f0f8ff;}#sk-container-id-12 input.sk-toggleable__control:checked~div.sk-toggleable__content {max-height: 200px;max-width: 100%;overflow: auto;}#sk-container-id-12 input.sk-toggleable__control:checked~label.sk-toggleable__label-arrow:before {content: \"▾\";}#sk-container-id-12 div.sk-estimator input.sk-toggleable__control:checked~label.sk-toggleable__label {background-color: #d4ebff;}#sk-container-id-12 div.sk-label input.sk-toggleable__control:checked~label.sk-toggleable__label {background-color: #d4ebff;}#sk-container-id-12 input.sk-hidden--visually {border: 0;clip: rect(1px 1px 1px 1px);clip: rect(1px, 1px, 1px, 1px);height: 1px;margin: -1px;overflow: hidden;padding: 0;position: absolute;width: 1px;}#sk-container-id-12 div.sk-estimator {font-family: monospace;background-color: #f0f8ff;border: 1px dotted black;border-radius: 0.25em;box-sizing: border-box;margin-bottom: 0.5em;}#sk-container-id-12 div.sk-estimator:hover {background-color: #d4ebff;}#sk-container-id-12 div.sk-parallel-item::after {content: \"\";width: 100%;border-bottom: 1px solid gray;flex-grow: 1;}#sk-container-id-12 div.sk-label:hover label.sk-toggleable__label {background-color: #d4ebff;}#sk-container-id-12 div.sk-serial::before {content: \"\";position: absolute;border-left: 1px solid gray;box-sizing: border-box;top: 0;bottom: 0;left: 50%;z-index: 0;}#sk-container-id-12 div.sk-serial {display: flex;flex-direction: column;align-items: center;background-color: white;padding-right: 0.2em;padding-left: 0.2em;position: relative;}#sk-container-id-12 div.sk-item {position: relative;z-index: 1;}#sk-container-id-12 div.sk-parallel {display: flex;align-items: stretch;justify-content: center;background-color: white;position: relative;}#sk-container-id-12 div.sk-item::before, #sk-container-id-12 div.sk-parallel-item::before {content: \"\";position: absolute;border-left: 1px solid gray;box-sizing: border-box;top: 0;bottom: 0;left: 50%;z-index: -1;}#sk-container-id-12 div.sk-parallel-item {display: flex;flex-direction: column;z-index: 1;position: relative;background-color: white;}#sk-container-id-12 div.sk-parallel-item:first-child::after {align-self: flex-end;width: 50%;}#sk-container-id-12 div.sk-parallel-item:last-child::after {align-self: flex-start;width: 50%;}#sk-container-id-12 div.sk-parallel-item:only-child::after {width: 0;}#sk-container-id-12 div.sk-dashed-wrapped {border: 1px dashed gray;margin: 0 0.4em 0.5em 0.4em;box-sizing: border-box;padding-bottom: 0.4em;background-color: white;}#sk-container-id-12 div.sk-label label {font-family: monospace;font-weight: bold;display: inline-block;line-height: 1.2em;}#sk-container-id-12 div.sk-label-container {text-align: center;}#sk-container-id-12 div.sk-container {/* jupyter's `normalize.less` sets `[hidden] { display: none; }` but bootstrap.min.css set `[hidden] { display: none !important; }` so we also need the `!important` here to be able to override the default hidden behavior on the sphinx rendered scikit-learn.org. See: https://github.com/scikit-learn/scikit-learn/issues/21755 */display: inline-block !important;position: relative;}#sk-container-id-12 div.sk-text-repr-fallback {display: none;}</style><div id=\"sk-container-id-12\" class=\"sk-top-container\"><div class=\"sk-text-repr-fallback\"><pre>SVC()</pre><b>In a Jupyter environment, please rerun this cell to show the HTML representation or trust the notebook. <br />On GitHub, the HTML representation is unable to render, please try loading this page with nbviewer.org.</b></div><div class=\"sk-container\" hidden><div class=\"sk-item\"><div class=\"sk-estimator sk-toggleable\"><input class=\"sk-toggleable__control sk-hidden--visually\" id=\"sk-estimator-id-12\" type=\"checkbox\" checked><label for=\"sk-estimator-id-12\" class=\"sk-toggleable__label sk-toggleable__label-arrow\">SVC</label><div class=\"sk-toggleable__content\"><pre>SVC()</pre></div></div></div></div></div>"
     },
     "execution_count": 226,
     "metadata": {},
     "output_type": "execute_result"
    }
   ],
   "source": [
    "model = SVC()\n",
    "model.fit(x_train,y_train)"
   ],
   "metadata": {
    "collapsed": false,
    "ExecuteTime": {
     "end_time": "2024-02-06T17:18:26.697599Z",
     "start_time": "2024-02-06T17:18:26.681553Z"
    }
   },
   "execution_count": 226
  },
  {
   "cell_type": "code",
   "outputs": [],
   "source": [
    "y_pred = model.predict(x_test)"
   ],
   "metadata": {
    "collapsed": false,
    "ExecuteTime": {
     "end_time": "2024-02-06T17:18:44.964643Z",
     "start_time": "2024-02-06T17:18:44.960456Z"
    }
   },
   "execution_count": 227
  },
  {
   "cell_type": "code",
   "outputs": [
    {
     "data": {
      "text/plain": "array([0, 0, 0, 0, 0, 0, 0, 0, 0, 0, 0, 0, 0, 0, 0, 0, 0, 0, 0, 0, 0, 0,\n       0, 0, 0])"
     },
     "execution_count": 228,
     "metadata": {},
     "output_type": "execute_result"
    }
   ],
   "source": [
    "y_pred"
   ],
   "metadata": {
    "collapsed": false,
    "ExecuteTime": {
     "end_time": "2024-02-06T17:18:59.407339Z",
     "start_time": "2024-02-06T17:18:59.398838Z"
    }
   },
   "execution_count": 228
  },
  {
   "cell_type": "code",
   "outputs": [
    {
     "name": "stdout",
     "output_type": "stream",
     "text": [
      "Confusion Matrix:\n",
      " [[ 9  0]\n",
      " [16  0]]\n"
     ]
    }
   ],
   "source": [
    "print(\"Confusion Matrix:\\n\", confusion_matrix(y_test, y_pred))"
   ],
   "metadata": {
    "collapsed": false,
    "ExecuteTime": {
     "end_time": "2024-02-06T17:19:02.709322Z",
     "start_time": "2024-02-06T17:19:02.691042Z"
    }
   },
   "execution_count": 229
  },
  {
   "cell_type": "code",
   "outputs": [
    {
     "name": "stdout",
     "output_type": "stream",
     "text": [
      "LogisticRegression()\n",
      "Confusion Matrix:\n",
      " [[ 5  4]\n",
      " [11  5]]\n",
      "Accuracy Score\n",
      " 0.4\n",
      "KNeighborsClassifier()\n",
      "Confusion Matrix:\n",
      " [[5 4]\n",
      " [7 9]]\n",
      "Accuracy Score\n",
      " 0.56\n",
      "SVC()\n",
      "Confusion Matrix:\n",
      " [[ 9  0]\n",
      " [16  0]]\n",
      "Accuracy Score\n",
      " 0.36\n"
     ]
    }
   ],
   "source": [
    "for model in [LogisticRegression(), KNeighborsClassifier(), SVC()]:\n",
    "    model.fit(x_train, y_train)\n",
    "    y_pred = model.predict(x_test)\n",
    "    print(model)\n",
    "    print(\"Confusion Matrix:\\n\", confusion_matrix(y_test, y_pred))\n",
    "    print(\"Accuracy Score\\n\", accuracy_score(y_test, y_pred))\n",
    "    "
   ],
   "metadata": {
    "collapsed": false,
    "ExecuteTime": {
     "end_time": "2024-02-06T23:16:44.408162Z",
     "start_time": "2024-02-06T23:16:44.299414Z"
    }
   },
   "execution_count": 244
  },
  {
   "cell_type": "code",
   "outputs": [
    {
     "name": "stdout",
     "output_type": "stream",
     "text": [
      "Accuracy: 0.36\n"
     ]
    }
   ],
   "source": [],
   "metadata": {
    "collapsed": false,
    "ExecuteTime": {
     "end_time": "2024-02-06T17:35:57.324138Z",
     "start_time": "2024-02-06T17:35:57.312942Z"
    }
   },
   "execution_count": 240
  },
  {
   "cell_type": "code",
   "outputs": [],
   "source": [],
   "metadata": {
    "collapsed": false
   }
  }
 ],
 "metadata": {
  "kernelspec": {
   "display_name": "Python 3",
   "language": "python",
   "name": "python3"
  },
  "language_info": {
   "codemirror_mode": {
    "name": "ipython",
    "version": 2
   },
   "file_extension": ".py",
   "mimetype": "text/x-python",
   "name": "python",
   "nbconvert_exporter": "python",
   "pygments_lexer": "ipython2",
   "version": "2.7.6"
  }
 },
 "nbformat": 4,
 "nbformat_minor": 0
}
